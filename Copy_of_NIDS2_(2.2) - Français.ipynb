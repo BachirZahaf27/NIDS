{
 "cells": [
  {
   "cell_type": "markdown",
   "metadata": {},
   "source": [
    "<div>\n",
    "<img src=\"img/banner.png\" width=\"2500\"/>\n",
    "</div>"
   ]
  },
  {
   "cell_type": "code",
   "execution_count": 2,
   "metadata": {
    "id": "0Dz0LYB-NaXB",
    "tags": []
   },
   "outputs": [
    {
     "data": {
      "application/javascript": [
       "(function(root) {\n",
       "  function now() {\n",
       "    return new Date();\n",
       "  }\n",
       "\n",
       "  var force = true;\n",
       "\n",
       "  if (typeof root._bokeh_onload_callbacks === \"undefined\" || force === true) {\n",
       "    root._bokeh_onload_callbacks = [];\n",
       "    root._bokeh_is_loading = undefined;\n",
       "  }\n",
       "\n",
       "  if (typeof (root._bokeh_timeout) === \"undefined\" || force === true) {\n",
       "    root._bokeh_timeout = Date.now() + 5000;\n",
       "    root._bokeh_failed_load = false;\n",
       "  }\n",
       "\n",
       "  function run_callbacks() {\n",
       "    try {\n",
       "      root._bokeh_onload_callbacks.forEach(function(callback) {\n",
       "        if (callback != null)\n",
       "          callback();\n",
       "      });\n",
       "    } finally {\n",
       "      delete root._bokeh_onload_callbacks\n",
       "    }\n",
       "    console.debug(\"Bokeh: all callbacks have finished\");\n",
       "  }\n",
       "\n",
       "  function load_libs(css_urls, js_urls, js_modules, callback) {\n",
       "    if (css_urls == null) css_urls = [];\n",
       "    if (js_urls == null) js_urls = [];\n",
       "    if (js_modules == null) js_modules = [];\n",
       "\n",
       "    root._bokeh_onload_callbacks.push(callback);\n",
       "    if (root._bokeh_is_loading > 0) {\n",
       "      console.debug(\"Bokeh: BokehJS is being loaded, scheduling callback at\", now());\n",
       "      return null;\n",
       "    }\n",
       "    if (js_urls.length === 0 && js_modules.length === 0) {\n",
       "      run_callbacks();\n",
       "      return null;\n",
       "    }\n",
       "    console.debug(\"Bokeh: BokehJS not loaded, scheduling load and callback at\", now());\n",
       "\n",
       "    function on_load() {\n",
       "      root._bokeh_is_loading--;\n",
       "      if (root._bokeh_is_loading === 0) {\n",
       "        console.debug(\"Bokeh: all BokehJS libraries/stylesheets loaded\");\n",
       "        run_callbacks()\n",
       "      }\n",
       "    }\n",
       "\n",
       "    function on_error() {\n",
       "      console.error(\"failed to load \" + url);\n",
       "    }\n",
       "\n",
       "    for (var i = 0; i < css_urls.length; i++) {\n",
       "      var url = css_urls[i];\n",
       "      const element = document.createElement(\"link\");\n",
       "      element.onload = on_load;\n",
       "      element.onerror = on_error;\n",
       "      element.rel = \"stylesheet\";\n",
       "      element.type = \"text/css\";\n",
       "      element.href = url;\n",
       "      console.debug(\"Bokeh: injecting link tag for BokehJS stylesheet: \", url);\n",
       "      document.body.appendChild(element);\n",
       "    }\n",
       "\n",
       "    var skip = [];\n",
       "    if (window.requirejs) {\n",
       "      window.requirejs.config({'packages': {}, 'paths': {'tabulator': 'https://cdn.jsdelivr.net/npm/tabulator-tables@5.3.2/dist/js/tabulator', 'moment': 'https://cdn.jsdelivr.net/npm/luxon/build/global/luxon.min', 'gridstack': 'https://cdn.jsdelivr.net/npm/gridstack@4.2.5/dist/gridstack-h5', 'notyf': 'https://cdn.jsdelivr.net/npm/notyf@3/notyf.min'}, 'shim': {'gridstack': {'exports': 'GridStack'}}});\n",
       "      require([\"tabulator\"], function(Tabulator) {\n",
       "\twindow.Tabulator = Tabulator\n",
       "\ton_load()\n",
       "      })\n",
       "      require([\"moment\"], function(moment) {\n",
       "\twindow.moment = moment\n",
       "\ton_load()\n",
       "      })\n",
       "      require([\"gridstack\"], function(GridStack) {\n",
       "\twindow.GridStack = GridStack\n",
       "\ton_load()\n",
       "      })\n",
       "      require([\"notyf\"], function() {\n",
       "\ton_load()\n",
       "      })\n",
       "      root._bokeh_is_loading = css_urls.length + 4;\n",
       "    } else {\n",
       "      root._bokeh_is_loading = css_urls.length + js_urls.length + js_modules.length;\n",
       "    }    if (((window['Tabulator'] !== undefined) && (!(window['Tabulator'] instanceof HTMLElement))) || window.requirejs) {\n",
       "      var urls = ['https://cdn.holoviz.org/panel/0.14.3/dist/bundled/datatabulator/tabulator-tables@5.3.2/dist/js/tabulator.js'];\n",
       "      for (var i = 0; i < urls.length; i++) {\n",
       "        skip.push(urls[i])\n",
       "      }\n",
       "    }    if (((window['moment'] !== undefined) && (!(window['moment'] instanceof HTMLElement))) || window.requirejs) {\n",
       "      var urls = ['https://cdn.holoviz.org/panel/0.14.3/dist/bundled/datatabulator/luxon/build/global/luxon.min.js'];\n",
       "      for (var i = 0; i < urls.length; i++) {\n",
       "        skip.push(urls[i])\n",
       "      }\n",
       "    }    if (((window['GridStack'] !== undefined) && (!(window['GridStack'] instanceof HTMLElement))) || window.requirejs) {\n",
       "      var urls = ['https://cdn.holoviz.org/panel/0.14.3/dist/bundled/gridstack/gridstack@4.2.5/dist/gridstack-h5.js'];\n",
       "      for (var i = 0; i < urls.length; i++) {\n",
       "        skip.push(urls[i])\n",
       "      }\n",
       "    }    if (((window['Notyf'] !== undefined) && (!(window['Notyf'] instanceof HTMLElement))) || window.requirejs) {\n",
       "      var urls = ['https://cdn.holoviz.org/panel/0.14.3/dist/bundled/notificationarea/notyf@3/notyf.min.js'];\n",
       "      for (var i = 0; i < urls.length; i++) {\n",
       "        skip.push(urls[i])\n",
       "      }\n",
       "    }    for (var i = 0; i < js_urls.length; i++) {\n",
       "      var url = js_urls[i];\n",
       "      if (skip.indexOf(url) >= 0) {\n",
       "\tif (!window.requirejs) {\n",
       "\t  on_load();\n",
       "\t}\n",
       "\tcontinue;\n",
       "      }\n",
       "      var element = document.createElement('script');\n",
       "      element.onload = on_load;\n",
       "      element.onerror = on_error;\n",
       "      element.async = false;\n",
       "      element.src = url;\n",
       "      console.debug(\"Bokeh: injecting script tag for BokehJS library: \", url);\n",
       "      document.head.appendChild(element);\n",
       "    }\n",
       "    for (var i = 0; i < js_modules.length; i++) {\n",
       "      var url = js_modules[i];\n",
       "      if (skip.indexOf(url) >= 0) {\n",
       "\tif (!window.requirejs) {\n",
       "\t  on_load();\n",
       "\t}\n",
       "\tcontinue;\n",
       "      }\n",
       "      var element = document.createElement('script');\n",
       "      element.onload = on_load;\n",
       "      element.onerror = on_error;\n",
       "      element.async = false;\n",
       "      element.src = url;\n",
       "      element.type = \"module\";\n",
       "      console.debug(\"Bokeh: injecting script tag for BokehJS library: \", url);\n",
       "      document.head.appendChild(element);\n",
       "    }\n",
       "    if (!js_urls.length && !js_modules.length) {\n",
       "      on_load()\n",
       "    }\n",
       "  };\n",
       "\n",
       "  function inject_raw_css(css) {\n",
       "    const element = document.createElement(\"style\");\n",
       "    element.appendChild(document.createTextNode(css));\n",
       "    document.body.appendChild(element);\n",
       "  }\n",
       "\n",
       "  var js_urls = [\"https://cdn.holoviz.org/panel/0.14.3/dist/bundled/datatabulator/tabulator-tables@5.3.2/dist/js/tabulator.js\", \"https://cdn.holoviz.org/panel/0.14.3/dist/bundled/datatabulator/luxon/build/global/luxon.min.js\", \"https://cdn.bokeh.org/bokeh/release/bokeh-2.4.1.min.js\", \"https://cdn.bokeh.org/bokeh/release/bokeh-gl-2.4.1.min.js\", \"https://cdn.bokeh.org/bokeh/release/bokeh-widgets-2.4.1.min.js\", \"https://cdn.bokeh.org/bokeh/release/bokeh-tables-2.4.1.min.js\", \"https://cdn.bokeh.org/bokeh/release/bokeh-mathjax-2.4.1.min.js\", \"https://unpkg.com/@holoviz/panel@0.14.3/dist/panel.min.js\"];\n",
       "  var js_modules = [];\n",
       "  var css_urls = [\"https://cdn.holoviz.org/panel/0.14.3/dist/bundled/datatabulator/tabulator-tables@5.3.2/dist/css/tabulator_simple.min.css\", \"https://cdn.holoviz.org/panel/0.14.3/dist/css/alerts.css\", \"https://cdn.holoviz.org/panel/0.14.3/dist/css/card.css\", \"https://cdn.holoviz.org/panel/0.14.3/dist/css/dataframe.css\", \"https://cdn.holoviz.org/panel/0.14.3/dist/css/debugger.css\", \"https://cdn.holoviz.org/panel/0.14.3/dist/css/json.css\", \"https://cdn.holoviz.org/panel/0.14.3/dist/css/loading.css\", \"https://cdn.holoviz.org/panel/0.14.3/dist/css/markdown.css\", \"https://cdn.holoviz.org/panel/0.14.3/dist/css/widgets.css\"];\n",
       "  var inline_js = [    function(Bokeh) {\n",
       "      inject_raw_css(\"\\n    .bk.pn-loading.arc:before {\\n      background-image: url(\\\"data:image/svg+xml;base64,PHN2ZyB4bWxucz0iaHR0cDovL3d3dy53My5vcmcvMjAwMC9zdmciIHN0eWxlPSJtYXJnaW46IGF1dG87IGJhY2tncm91bmQ6IG5vbmU7IGRpc3BsYXk6IGJsb2NrOyBzaGFwZS1yZW5kZXJpbmc6IGF1dG87IiB2aWV3Qm94PSIwIDAgMTAwIDEwMCIgcHJlc2VydmVBc3BlY3RSYXRpbz0ieE1pZFlNaWQiPiAgPGNpcmNsZSBjeD0iNTAiIGN5PSI1MCIgZmlsbD0ibm9uZSIgc3Ryb2tlPSIjYzNjM2MzIiBzdHJva2Utd2lkdGg9IjEwIiByPSIzNSIgc3Ryb2tlLWRhc2hhcnJheT0iMTY0LjkzMzYxNDMxMzQ2NDE1IDU2Ljk3Nzg3MTQzNzgyMTM4Ij4gICAgPGFuaW1hdGVUcmFuc2Zvcm0gYXR0cmlidXRlTmFtZT0idHJhbnNmb3JtIiB0eXBlPSJyb3RhdGUiIHJlcGVhdENvdW50PSJpbmRlZmluaXRlIiBkdXI9IjFzIiB2YWx1ZXM9IjAgNTAgNTA7MzYwIDUwIDUwIiBrZXlUaW1lcz0iMDsxIj48L2FuaW1hdGVUcmFuc2Zvcm0+ICA8L2NpcmNsZT48L3N2Zz4=\\\");\\n      background-size: auto calc(min(50%, 400px));\\n    }\\n    \");\n",
       "    },    function(Bokeh) {\n",
       "      Bokeh.set_log_level(\"info\");\n",
       "    },\n",
       "function(Bokeh) {} // ensure no trailing comma for IE\n",
       "  ];\n",
       "\n",
       "  function run_inline_js() {\n",
       "    if ((root.Bokeh !== undefined) || (force === true)) {\n",
       "      for (var i = 0; i < inline_js.length; i++) {\n",
       "        inline_js[i].call(root, root.Bokeh);\n",
       "      }} else if (Date.now() < root._bokeh_timeout) {\n",
       "      setTimeout(run_inline_js, 100);\n",
       "    } else if (!root._bokeh_failed_load) {\n",
       "      console.log(\"Bokeh: BokehJS failed to load within specified timeout.\");\n",
       "      root._bokeh_failed_load = true;\n",
       "    }\n",
       "  }\n",
       "\n",
       "  if (root._bokeh_is_loading === 0) {\n",
       "    console.debug(\"Bokeh: BokehJS loaded, going straight to plotting\");\n",
       "    run_inline_js();\n",
       "  } else {\n",
       "    load_libs(css_urls, js_urls, js_modules, function() {\n",
       "      console.debug(\"Bokeh: BokehJS plotting callback run at\", now());\n",
       "      run_inline_js();\n",
       "    });\n",
       "  }\n",
       "}(window));"
      ],
      "application/vnd.holoviews_load.v0+json": "(function(root) {\n  function now() {\n    return new Date();\n  }\n\n  var force = true;\n\n  if (typeof root._bokeh_onload_callbacks === \"undefined\" || force === true) {\n    root._bokeh_onload_callbacks = [];\n    root._bokeh_is_loading = undefined;\n  }\n\n  if (typeof (root._bokeh_timeout) === \"undefined\" || force === true) {\n    root._bokeh_timeout = Date.now() + 5000;\n    root._bokeh_failed_load = false;\n  }\n\n  function run_callbacks() {\n    try {\n      root._bokeh_onload_callbacks.forEach(function(callback) {\n        if (callback != null)\n          callback();\n      });\n    } finally {\n      delete root._bokeh_onload_callbacks\n    }\n    console.debug(\"Bokeh: all callbacks have finished\");\n  }\n\n  function load_libs(css_urls, js_urls, js_modules, callback) {\n    if (css_urls == null) css_urls = [];\n    if (js_urls == null) js_urls = [];\n    if (js_modules == null) js_modules = [];\n\n    root._bokeh_onload_callbacks.push(callback);\n    if (root._bokeh_is_loading > 0) {\n      console.debug(\"Bokeh: BokehJS is being loaded, scheduling callback at\", now());\n      return null;\n    }\n    if (js_urls.length === 0 && js_modules.length === 0) {\n      run_callbacks();\n      return null;\n    }\n    console.debug(\"Bokeh: BokehJS not loaded, scheduling load and callback at\", now());\n\n    function on_load() {\n      root._bokeh_is_loading--;\n      if (root._bokeh_is_loading === 0) {\n        console.debug(\"Bokeh: all BokehJS libraries/stylesheets loaded\");\n        run_callbacks()\n      }\n    }\n\n    function on_error() {\n      console.error(\"failed to load \" + url);\n    }\n\n    for (var i = 0; i < css_urls.length; i++) {\n      var url = css_urls[i];\n      const element = document.createElement(\"link\");\n      element.onload = on_load;\n      element.onerror = on_error;\n      element.rel = \"stylesheet\";\n      element.type = \"text/css\";\n      element.href = url;\n      console.debug(\"Bokeh: injecting link tag for BokehJS stylesheet: \", url);\n      document.body.appendChild(element);\n    }\n\n    var skip = [];\n    if (window.requirejs) {\n      window.requirejs.config({'packages': {}, 'paths': {'tabulator': 'https://cdn.jsdelivr.net/npm/tabulator-tables@5.3.2/dist/js/tabulator', 'moment': 'https://cdn.jsdelivr.net/npm/luxon/build/global/luxon.min', 'gridstack': 'https://cdn.jsdelivr.net/npm/gridstack@4.2.5/dist/gridstack-h5', 'notyf': 'https://cdn.jsdelivr.net/npm/notyf@3/notyf.min'}, 'shim': {'gridstack': {'exports': 'GridStack'}}});\n      require([\"tabulator\"], function(Tabulator) {\n\twindow.Tabulator = Tabulator\n\ton_load()\n      })\n      require([\"moment\"], function(moment) {\n\twindow.moment = moment\n\ton_load()\n      })\n      require([\"gridstack\"], function(GridStack) {\n\twindow.GridStack = GridStack\n\ton_load()\n      })\n      require([\"notyf\"], function() {\n\ton_load()\n      })\n      root._bokeh_is_loading = css_urls.length + 4;\n    } else {\n      root._bokeh_is_loading = css_urls.length + js_urls.length + js_modules.length;\n    }    if (((window['Tabulator'] !== undefined) && (!(window['Tabulator'] instanceof HTMLElement))) || window.requirejs) {\n      var urls = ['https://cdn.holoviz.org/panel/0.14.3/dist/bundled/datatabulator/tabulator-tables@5.3.2/dist/js/tabulator.js'];\n      for (var i = 0; i < urls.length; i++) {\n        skip.push(urls[i])\n      }\n    }    if (((window['moment'] !== undefined) && (!(window['moment'] instanceof HTMLElement))) || window.requirejs) {\n      var urls = ['https://cdn.holoviz.org/panel/0.14.3/dist/bundled/datatabulator/luxon/build/global/luxon.min.js'];\n      for (var i = 0; i < urls.length; i++) {\n        skip.push(urls[i])\n      }\n    }    if (((window['GridStack'] !== undefined) && (!(window['GridStack'] instanceof HTMLElement))) || window.requirejs) {\n      var urls = ['https://cdn.holoviz.org/panel/0.14.3/dist/bundled/gridstack/gridstack@4.2.5/dist/gridstack-h5.js'];\n      for (var i = 0; i < urls.length; i++) {\n        skip.push(urls[i])\n      }\n    }    if (((window['Notyf'] !== undefined) && (!(window['Notyf'] instanceof HTMLElement))) || window.requirejs) {\n      var urls = ['https://cdn.holoviz.org/panel/0.14.3/dist/bundled/notificationarea/notyf@3/notyf.min.js'];\n      for (var i = 0; i < urls.length; i++) {\n        skip.push(urls[i])\n      }\n    }    for (var i = 0; i < js_urls.length; i++) {\n      var url = js_urls[i];\n      if (skip.indexOf(url) >= 0) {\n\tif (!window.requirejs) {\n\t  on_load();\n\t}\n\tcontinue;\n      }\n      var element = document.createElement('script');\n      element.onload = on_load;\n      element.onerror = on_error;\n      element.async = false;\n      element.src = url;\n      console.debug(\"Bokeh: injecting script tag for BokehJS library: \", url);\n      document.head.appendChild(element);\n    }\n    for (var i = 0; i < js_modules.length; i++) {\n      var url = js_modules[i];\n      if (skip.indexOf(url) >= 0) {\n\tif (!window.requirejs) {\n\t  on_load();\n\t}\n\tcontinue;\n      }\n      var element = document.createElement('script');\n      element.onload = on_load;\n      element.onerror = on_error;\n      element.async = false;\n      element.src = url;\n      element.type = \"module\";\n      console.debug(\"Bokeh: injecting script tag for BokehJS library: \", url);\n      document.head.appendChild(element);\n    }\n    if (!js_urls.length && !js_modules.length) {\n      on_load()\n    }\n  };\n\n  function inject_raw_css(css) {\n    const element = document.createElement(\"style\");\n    element.appendChild(document.createTextNode(css));\n    document.body.appendChild(element);\n  }\n\n  var js_urls = [\"https://cdn.holoviz.org/panel/0.14.3/dist/bundled/datatabulator/tabulator-tables@5.3.2/dist/js/tabulator.js\", \"https://cdn.holoviz.org/panel/0.14.3/dist/bundled/datatabulator/luxon/build/global/luxon.min.js\", \"https://cdn.bokeh.org/bokeh/release/bokeh-2.4.1.min.js\", \"https://cdn.bokeh.org/bokeh/release/bokeh-gl-2.4.1.min.js\", \"https://cdn.bokeh.org/bokeh/release/bokeh-widgets-2.4.1.min.js\", \"https://cdn.bokeh.org/bokeh/release/bokeh-tables-2.4.1.min.js\", \"https://cdn.bokeh.org/bokeh/release/bokeh-mathjax-2.4.1.min.js\", \"https://unpkg.com/@holoviz/panel@0.14.3/dist/panel.min.js\"];\n  var js_modules = [];\n  var css_urls = [\"https://cdn.holoviz.org/panel/0.14.3/dist/bundled/datatabulator/tabulator-tables@5.3.2/dist/css/tabulator_simple.min.css\", \"https://cdn.holoviz.org/panel/0.14.3/dist/css/alerts.css\", \"https://cdn.holoviz.org/panel/0.14.3/dist/css/card.css\", \"https://cdn.holoviz.org/panel/0.14.3/dist/css/dataframe.css\", \"https://cdn.holoviz.org/panel/0.14.3/dist/css/debugger.css\", \"https://cdn.holoviz.org/panel/0.14.3/dist/css/json.css\", \"https://cdn.holoviz.org/panel/0.14.3/dist/css/loading.css\", \"https://cdn.holoviz.org/panel/0.14.3/dist/css/markdown.css\", \"https://cdn.holoviz.org/panel/0.14.3/dist/css/widgets.css\"];\n  var inline_js = [    function(Bokeh) {\n      inject_raw_css(\"\\n    .bk.pn-loading.arc:before {\\n      background-image: url(\\\"data:image/svg+xml;base64,PHN2ZyB4bWxucz0iaHR0cDovL3d3dy53My5vcmcvMjAwMC9zdmciIHN0eWxlPSJtYXJnaW46IGF1dG87IGJhY2tncm91bmQ6IG5vbmU7IGRpc3BsYXk6IGJsb2NrOyBzaGFwZS1yZW5kZXJpbmc6IGF1dG87IiB2aWV3Qm94PSIwIDAgMTAwIDEwMCIgcHJlc2VydmVBc3BlY3RSYXRpbz0ieE1pZFlNaWQiPiAgPGNpcmNsZSBjeD0iNTAiIGN5PSI1MCIgZmlsbD0ibm9uZSIgc3Ryb2tlPSIjYzNjM2MzIiBzdHJva2Utd2lkdGg9IjEwIiByPSIzNSIgc3Ryb2tlLWRhc2hhcnJheT0iMTY0LjkzMzYxNDMxMzQ2NDE1IDU2Ljk3Nzg3MTQzNzgyMTM4Ij4gICAgPGFuaW1hdGVUcmFuc2Zvcm0gYXR0cmlidXRlTmFtZT0idHJhbnNmb3JtIiB0eXBlPSJyb3RhdGUiIHJlcGVhdENvdW50PSJpbmRlZmluaXRlIiBkdXI9IjFzIiB2YWx1ZXM9IjAgNTAgNTA7MzYwIDUwIDUwIiBrZXlUaW1lcz0iMDsxIj48L2FuaW1hdGVUcmFuc2Zvcm0+ICA8L2NpcmNsZT48L3N2Zz4=\\\");\\n      background-size: auto calc(min(50%, 400px));\\n    }\\n    \");\n    },    function(Bokeh) {\n      Bokeh.set_log_level(\"info\");\n    },\nfunction(Bokeh) {} // ensure no trailing comma for IE\n  ];\n\n  function run_inline_js() {\n    if ((root.Bokeh !== undefined) || (force === true)) {\n      for (var i = 0; i < inline_js.length; i++) {\n        inline_js[i].call(root, root.Bokeh);\n      }} else if (Date.now() < root._bokeh_timeout) {\n      setTimeout(run_inline_js, 100);\n    } else if (!root._bokeh_failed_load) {\n      console.log(\"Bokeh: BokehJS failed to load within specified timeout.\");\n      root._bokeh_failed_load = true;\n    }\n  }\n\n  if (root._bokeh_is_loading === 0) {\n    console.debug(\"Bokeh: BokehJS loaded, going straight to plotting\");\n    run_inline_js();\n  } else {\n    load_libs(css_urls, js_urls, js_modules, function() {\n      console.debug(\"Bokeh: BokehJS plotting callback run at\", now());\n      run_inline_js();\n    });\n  }\n}(window));"
     },
     "metadata": {},
     "output_type": "display_data"
    },
    {
     "data": {
      "application/javascript": [
       "\n",
       "if ((window.PyViz === undefined) || (window.PyViz instanceof HTMLElement)) {\n",
       "  window.PyViz = {comms: {}, comm_status:{}, kernels:{}, receivers: {}, plot_index: []}\n",
       "}\n",
       "\n",
       "\n",
       "    function JupyterCommManager() {\n",
       "    }\n",
       "\n",
       "    JupyterCommManager.prototype.register_target = function(plot_id, comm_id, msg_handler) {\n",
       "      if (window.comm_manager || ((window.Jupyter !== undefined) && (Jupyter.notebook.kernel != null))) {\n",
       "        var comm_manager = window.comm_manager || Jupyter.notebook.kernel.comm_manager;\n",
       "        comm_manager.register_target(comm_id, function(comm) {\n",
       "          comm.on_msg(msg_handler);\n",
       "        });\n",
       "      } else if ((plot_id in window.PyViz.kernels) && (window.PyViz.kernels[plot_id])) {\n",
       "        window.PyViz.kernels[plot_id].registerCommTarget(comm_id, function(comm) {\n",
       "          comm.onMsg = msg_handler;\n",
       "        });\n",
       "      } else if (typeof google != 'undefined' && google.colab.kernel != null) {\n",
       "        google.colab.kernel.comms.registerTarget(comm_id, (comm) => {\n",
       "          var messages = comm.messages[Symbol.asyncIterator]();\n",
       "          function processIteratorResult(result) {\n",
       "            var message = result.value;\n",
       "            console.log(message)\n",
       "            var content = {data: message.data, comm_id};\n",
       "            var buffers = []\n",
       "            for (var buffer of message.buffers || []) {\n",
       "              buffers.push(new DataView(buffer))\n",
       "            }\n",
       "            var metadata = message.metadata || {};\n",
       "            var msg = {content, buffers, metadata}\n",
       "            msg_handler(msg);\n",
       "            return messages.next().then(processIteratorResult);\n",
       "          }\n",
       "          return messages.next().then(processIteratorResult);\n",
       "        })\n",
       "      }\n",
       "    }\n",
       "\n",
       "    JupyterCommManager.prototype.get_client_comm = function(plot_id, comm_id, msg_handler) {\n",
       "      if (comm_id in window.PyViz.comms) {\n",
       "        return window.PyViz.comms[comm_id];\n",
       "      } else if (window.comm_manager || ((window.Jupyter !== undefined) && (Jupyter.notebook.kernel != null))) {\n",
       "        var comm_manager = window.comm_manager || Jupyter.notebook.kernel.comm_manager;\n",
       "        var comm = comm_manager.new_comm(comm_id, {}, {}, {}, comm_id);\n",
       "        if (msg_handler) {\n",
       "          comm.on_msg(msg_handler);\n",
       "        }\n",
       "      } else if ((plot_id in window.PyViz.kernels) && (window.PyViz.kernels[plot_id])) {\n",
       "        var comm = window.PyViz.kernels[plot_id].connectToComm(comm_id);\n",
       "        comm.open();\n",
       "        if (msg_handler) {\n",
       "          comm.onMsg = msg_handler;\n",
       "        }\n",
       "      } else if (typeof google != 'undefined' && google.colab.kernel != null) {\n",
       "        var comm_promise = google.colab.kernel.comms.open(comm_id)\n",
       "        comm_promise.then((comm) => {\n",
       "          window.PyViz.comms[comm_id] = comm;\n",
       "          if (msg_handler) {\n",
       "            var messages = comm.messages[Symbol.asyncIterator]();\n",
       "            function processIteratorResult(result) {\n",
       "              var message = result.value;\n",
       "              var content = {data: message.data};\n",
       "              var metadata = message.metadata || {comm_id};\n",
       "              var msg = {content, metadata}\n",
       "              msg_handler(msg);\n",
       "              return messages.next().then(processIteratorResult);\n",
       "            }\n",
       "            return messages.next().then(processIteratorResult);\n",
       "          }\n",
       "        }) \n",
       "        var sendClosure = (data, metadata, buffers, disposeOnDone) => {\n",
       "          return comm_promise.then((comm) => {\n",
       "            comm.send(data, metadata, buffers, disposeOnDone);\n",
       "          });\n",
       "        };\n",
       "        var comm = {\n",
       "          send: sendClosure\n",
       "        };\n",
       "      }\n",
       "      window.PyViz.comms[comm_id] = comm;\n",
       "      return comm;\n",
       "    }\n",
       "    window.PyViz.comm_manager = new JupyterCommManager();\n",
       "    \n",
       "\n",
       "\n",
       "var JS_MIME_TYPE = 'application/javascript';\n",
       "var HTML_MIME_TYPE = 'text/html';\n",
       "var EXEC_MIME_TYPE = 'application/vnd.holoviews_exec.v0+json';\n",
       "var CLASS_NAME = 'output';\n",
       "\n",
       "/**\n",
       " * Render data to the DOM node\n",
       " */\n",
       "function render(props, node) {\n",
       "  var div = document.createElement(\"div\");\n",
       "  var script = document.createElement(\"script\");\n",
       "  node.appendChild(div);\n",
       "  node.appendChild(script);\n",
       "}\n",
       "\n",
       "/**\n",
       " * Handle when a new output is added\n",
       " */\n",
       "function handle_add_output(event, handle) {\n",
       "  var output_area = handle.output_area;\n",
       "  var output = handle.output;\n",
       "  if ((output.data == undefined) || (!output.data.hasOwnProperty(EXEC_MIME_TYPE))) {\n",
       "    return\n",
       "  }\n",
       "  var id = output.metadata[EXEC_MIME_TYPE][\"id\"];\n",
       "  var toinsert = output_area.element.find(\".\" + CLASS_NAME.split(' ')[0]);\n",
       "  if (id !== undefined) {\n",
       "    var nchildren = toinsert.length;\n",
       "    var html_node = toinsert[nchildren-1].children[0];\n",
       "    html_node.innerHTML = output.data[HTML_MIME_TYPE];\n",
       "    var scripts = [];\n",
       "    var nodelist = html_node.querySelectorAll(\"script\");\n",
       "    for (var i in nodelist) {\n",
       "      if (nodelist.hasOwnProperty(i)) {\n",
       "        scripts.push(nodelist[i])\n",
       "      }\n",
       "    }\n",
       "\n",
       "    scripts.forEach( function (oldScript) {\n",
       "      var newScript = document.createElement(\"script\");\n",
       "      var attrs = [];\n",
       "      var nodemap = oldScript.attributes;\n",
       "      for (var j in nodemap) {\n",
       "        if (nodemap.hasOwnProperty(j)) {\n",
       "          attrs.push(nodemap[j])\n",
       "        }\n",
       "      }\n",
       "      attrs.forEach(function(attr) { newScript.setAttribute(attr.name, attr.value) });\n",
       "      newScript.appendChild(document.createTextNode(oldScript.innerHTML));\n",
       "      oldScript.parentNode.replaceChild(newScript, oldScript);\n",
       "    });\n",
       "    if (JS_MIME_TYPE in output.data) {\n",
       "      toinsert[nchildren-1].children[1].textContent = output.data[JS_MIME_TYPE];\n",
       "    }\n",
       "    output_area._hv_plot_id = id;\n",
       "    if ((window.Bokeh !== undefined) && (id in Bokeh.index)) {\n",
       "      window.PyViz.plot_index[id] = Bokeh.index[id];\n",
       "    } else {\n",
       "      window.PyViz.plot_index[id] = null;\n",
       "    }\n",
       "  } else if (output.metadata[EXEC_MIME_TYPE][\"server_id\"] !== undefined) {\n",
       "    var bk_div = document.createElement(\"div\");\n",
       "    bk_div.innerHTML = output.data[HTML_MIME_TYPE];\n",
       "    var script_attrs = bk_div.children[0].attributes;\n",
       "    for (var i = 0; i < script_attrs.length; i++) {\n",
       "      toinsert[toinsert.length - 1].childNodes[1].setAttribute(script_attrs[i].name, script_attrs[i].value);\n",
       "    }\n",
       "    // store reference to server id on output_area\n",
       "    output_area._bokeh_server_id = output.metadata[EXEC_MIME_TYPE][\"server_id\"];\n",
       "  }\n",
       "}\n",
       "\n",
       "/**\n",
       " * Handle when an output is cleared or removed\n",
       " */\n",
       "function handle_clear_output(event, handle) {\n",
       "  var id = handle.cell.output_area._hv_plot_id;\n",
       "  var server_id = handle.cell.output_area._bokeh_server_id;\n",
       "  if (((id === undefined) || !(id in PyViz.plot_index)) && (server_id !== undefined)) { return; }\n",
       "  var comm = window.PyViz.comm_manager.get_client_comm(\"hv-extension-comm\", \"hv-extension-comm\", function () {});\n",
       "  if (server_id !== null) {\n",
       "    comm.send({event_type: 'server_delete', 'id': server_id});\n",
       "    return;\n",
       "  } else if (comm !== null) {\n",
       "    comm.send({event_type: 'delete', 'id': id});\n",
       "  }\n",
       "  delete PyViz.plot_index[id];\n",
       "  if ((window.Bokeh !== undefined) & (id in window.Bokeh.index)) {\n",
       "    var doc = window.Bokeh.index[id].model.document\n",
       "    doc.clear();\n",
       "    const i = window.Bokeh.documents.indexOf(doc);\n",
       "    if (i > -1) {\n",
       "      window.Bokeh.documents.splice(i, 1);\n",
       "    }\n",
       "  }\n",
       "}\n",
       "\n",
       "/**\n",
       " * Handle kernel restart event\n",
       " */\n",
       "function handle_kernel_cleanup(event, handle) {\n",
       "  delete PyViz.comms[\"hv-extension-comm\"];\n",
       "  window.PyViz.plot_index = {}\n",
       "}\n",
       "\n",
       "/**\n",
       " * Handle update_display_data messages\n",
       " */\n",
       "function handle_update_output(event, handle) {\n",
       "  handle_clear_output(event, {cell: {output_area: handle.output_area}})\n",
       "  handle_add_output(event, handle)\n",
       "}\n",
       "\n",
       "function register_renderer(events, OutputArea) {\n",
       "  function append_mime(data, metadata, element) {\n",
       "    // create a DOM node to render to\n",
       "    var toinsert = this.create_output_subarea(\n",
       "    metadata,\n",
       "    CLASS_NAME,\n",
       "    EXEC_MIME_TYPE\n",
       "    );\n",
       "    this.keyboard_manager.register_events(toinsert);\n",
       "    // Render to node\n",
       "    var props = {data: data, metadata: metadata[EXEC_MIME_TYPE]};\n",
       "    render(props, toinsert[0]);\n",
       "    element.append(toinsert);\n",
       "    return toinsert\n",
       "  }\n",
       "\n",
       "  events.on('output_added.OutputArea', handle_add_output);\n",
       "  events.on('output_updated.OutputArea', handle_update_output);\n",
       "  events.on('clear_output.CodeCell', handle_clear_output);\n",
       "  events.on('delete.Cell', handle_clear_output);\n",
       "  events.on('kernel_ready.Kernel', handle_kernel_cleanup);\n",
       "\n",
       "  OutputArea.prototype.register_mime_type(EXEC_MIME_TYPE, append_mime, {\n",
       "    safe: true,\n",
       "    index: 0\n",
       "  });\n",
       "}\n",
       "\n",
       "if (window.Jupyter !== undefined) {\n",
       "  try {\n",
       "    var events = require('base/js/events');\n",
       "    var OutputArea = require('notebook/js/outputarea').OutputArea;\n",
       "    if (OutputArea.prototype.mime_types().indexOf(EXEC_MIME_TYPE) == -1) {\n",
       "      register_renderer(events, OutputArea);\n",
       "    }\n",
       "  } catch(err) {\n",
       "  }\n",
       "}\n"
      ],
      "application/vnd.holoviews_load.v0+json": "\nif ((window.PyViz === undefined) || (window.PyViz instanceof HTMLElement)) {\n  window.PyViz = {comms: {}, comm_status:{}, kernels:{}, receivers: {}, plot_index: []}\n}\n\n\n    function JupyterCommManager() {\n    }\n\n    JupyterCommManager.prototype.register_target = function(plot_id, comm_id, msg_handler) {\n      if (window.comm_manager || ((window.Jupyter !== undefined) && (Jupyter.notebook.kernel != null))) {\n        var comm_manager = window.comm_manager || Jupyter.notebook.kernel.comm_manager;\n        comm_manager.register_target(comm_id, function(comm) {\n          comm.on_msg(msg_handler);\n        });\n      } else if ((plot_id in window.PyViz.kernels) && (window.PyViz.kernels[plot_id])) {\n        window.PyViz.kernels[plot_id].registerCommTarget(comm_id, function(comm) {\n          comm.onMsg = msg_handler;\n        });\n      } else if (typeof google != 'undefined' && google.colab.kernel != null) {\n        google.colab.kernel.comms.registerTarget(comm_id, (comm) => {\n          var messages = comm.messages[Symbol.asyncIterator]();\n          function processIteratorResult(result) {\n            var message = result.value;\n            console.log(message)\n            var content = {data: message.data, comm_id};\n            var buffers = []\n            for (var buffer of message.buffers || []) {\n              buffers.push(new DataView(buffer))\n            }\n            var metadata = message.metadata || {};\n            var msg = {content, buffers, metadata}\n            msg_handler(msg);\n            return messages.next().then(processIteratorResult);\n          }\n          return messages.next().then(processIteratorResult);\n        })\n      }\n    }\n\n    JupyterCommManager.prototype.get_client_comm = function(plot_id, comm_id, msg_handler) {\n      if (comm_id in window.PyViz.comms) {\n        return window.PyViz.comms[comm_id];\n      } else if (window.comm_manager || ((window.Jupyter !== undefined) && (Jupyter.notebook.kernel != null))) {\n        var comm_manager = window.comm_manager || Jupyter.notebook.kernel.comm_manager;\n        var comm = comm_manager.new_comm(comm_id, {}, {}, {}, comm_id);\n        if (msg_handler) {\n          comm.on_msg(msg_handler);\n        }\n      } else if ((plot_id in window.PyViz.kernels) && (window.PyViz.kernels[plot_id])) {\n        var comm = window.PyViz.kernels[plot_id].connectToComm(comm_id);\n        comm.open();\n        if (msg_handler) {\n          comm.onMsg = msg_handler;\n        }\n      } else if (typeof google != 'undefined' && google.colab.kernel != null) {\n        var comm_promise = google.colab.kernel.comms.open(comm_id)\n        comm_promise.then((comm) => {\n          window.PyViz.comms[comm_id] = comm;\n          if (msg_handler) {\n            var messages = comm.messages[Symbol.asyncIterator]();\n            function processIteratorResult(result) {\n              var message = result.value;\n              var content = {data: message.data};\n              var metadata = message.metadata || {comm_id};\n              var msg = {content, metadata}\n              msg_handler(msg);\n              return messages.next().then(processIteratorResult);\n            }\n            return messages.next().then(processIteratorResult);\n          }\n        }) \n        var sendClosure = (data, metadata, buffers, disposeOnDone) => {\n          return comm_promise.then((comm) => {\n            comm.send(data, metadata, buffers, disposeOnDone);\n          });\n        };\n        var comm = {\n          send: sendClosure\n        };\n      }\n      window.PyViz.comms[comm_id] = comm;\n      return comm;\n    }\n    window.PyViz.comm_manager = new JupyterCommManager();\n    \n\n\nvar JS_MIME_TYPE = 'application/javascript';\nvar HTML_MIME_TYPE = 'text/html';\nvar EXEC_MIME_TYPE = 'application/vnd.holoviews_exec.v0+json';\nvar CLASS_NAME = 'output';\n\n/**\n * Render data to the DOM node\n */\nfunction render(props, node) {\n  var div = document.createElement(\"div\");\n  var script = document.createElement(\"script\");\n  node.appendChild(div);\n  node.appendChild(script);\n}\n\n/**\n * Handle when a new output is added\n */\nfunction handle_add_output(event, handle) {\n  var output_area = handle.output_area;\n  var output = handle.output;\n  if ((output.data == undefined) || (!output.data.hasOwnProperty(EXEC_MIME_TYPE))) {\n    return\n  }\n  var id = output.metadata[EXEC_MIME_TYPE][\"id\"];\n  var toinsert = output_area.element.find(\".\" + CLASS_NAME.split(' ')[0]);\n  if (id !== undefined) {\n    var nchildren = toinsert.length;\n    var html_node = toinsert[nchildren-1].children[0];\n    html_node.innerHTML = output.data[HTML_MIME_TYPE];\n    var scripts = [];\n    var nodelist = html_node.querySelectorAll(\"script\");\n    for (var i in nodelist) {\n      if (nodelist.hasOwnProperty(i)) {\n        scripts.push(nodelist[i])\n      }\n    }\n\n    scripts.forEach( function (oldScript) {\n      var newScript = document.createElement(\"script\");\n      var attrs = [];\n      var nodemap = oldScript.attributes;\n      for (var j in nodemap) {\n        if (nodemap.hasOwnProperty(j)) {\n          attrs.push(nodemap[j])\n        }\n      }\n      attrs.forEach(function(attr) { newScript.setAttribute(attr.name, attr.value) });\n      newScript.appendChild(document.createTextNode(oldScript.innerHTML));\n      oldScript.parentNode.replaceChild(newScript, oldScript);\n    });\n    if (JS_MIME_TYPE in output.data) {\n      toinsert[nchildren-1].children[1].textContent = output.data[JS_MIME_TYPE];\n    }\n    output_area._hv_plot_id = id;\n    if ((window.Bokeh !== undefined) && (id in Bokeh.index)) {\n      window.PyViz.plot_index[id] = Bokeh.index[id];\n    } else {\n      window.PyViz.plot_index[id] = null;\n    }\n  } else if (output.metadata[EXEC_MIME_TYPE][\"server_id\"] !== undefined) {\n    var bk_div = document.createElement(\"div\");\n    bk_div.innerHTML = output.data[HTML_MIME_TYPE];\n    var script_attrs = bk_div.children[0].attributes;\n    for (var i = 0; i < script_attrs.length; i++) {\n      toinsert[toinsert.length - 1].childNodes[1].setAttribute(script_attrs[i].name, script_attrs[i].value);\n    }\n    // store reference to server id on output_area\n    output_area._bokeh_server_id = output.metadata[EXEC_MIME_TYPE][\"server_id\"];\n  }\n}\n\n/**\n * Handle when an output is cleared or removed\n */\nfunction handle_clear_output(event, handle) {\n  var id = handle.cell.output_area._hv_plot_id;\n  var server_id = handle.cell.output_area._bokeh_server_id;\n  if (((id === undefined) || !(id in PyViz.plot_index)) && (server_id !== undefined)) { return; }\n  var comm = window.PyViz.comm_manager.get_client_comm(\"hv-extension-comm\", \"hv-extension-comm\", function () {});\n  if (server_id !== null) {\n    comm.send({event_type: 'server_delete', 'id': server_id});\n    return;\n  } else if (comm !== null) {\n    comm.send({event_type: 'delete', 'id': id});\n  }\n  delete PyViz.plot_index[id];\n  if ((window.Bokeh !== undefined) & (id in window.Bokeh.index)) {\n    var doc = window.Bokeh.index[id].model.document\n    doc.clear();\n    const i = window.Bokeh.documents.indexOf(doc);\n    if (i > -1) {\n      window.Bokeh.documents.splice(i, 1);\n    }\n  }\n}\n\n/**\n * Handle kernel restart event\n */\nfunction handle_kernel_cleanup(event, handle) {\n  delete PyViz.comms[\"hv-extension-comm\"];\n  window.PyViz.plot_index = {}\n}\n\n/**\n * Handle update_display_data messages\n */\nfunction handle_update_output(event, handle) {\n  handle_clear_output(event, {cell: {output_area: handle.output_area}})\n  handle_add_output(event, handle)\n}\n\nfunction register_renderer(events, OutputArea) {\n  function append_mime(data, metadata, element) {\n    // create a DOM node to render to\n    var toinsert = this.create_output_subarea(\n    metadata,\n    CLASS_NAME,\n    EXEC_MIME_TYPE\n    );\n    this.keyboard_manager.register_events(toinsert);\n    // Render to node\n    var props = {data: data, metadata: metadata[EXEC_MIME_TYPE]};\n    render(props, toinsert[0]);\n    element.append(toinsert);\n    return toinsert\n  }\n\n  events.on('output_added.OutputArea', handle_add_output);\n  events.on('output_updated.OutputArea', handle_update_output);\n  events.on('clear_output.CodeCell', handle_clear_output);\n  events.on('delete.Cell', handle_clear_output);\n  events.on('kernel_ready.Kernel', handle_kernel_cleanup);\n\n  OutputArea.prototype.register_mime_type(EXEC_MIME_TYPE, append_mime, {\n    safe: true,\n    index: 0\n  });\n}\n\nif (window.Jupyter !== undefined) {\n  try {\n    var events = require('base/js/events');\n    var OutputArea = require('notebook/js/outputarea').OutputArea;\n    if (OutputArea.prototype.mime_types().indexOf(EXEC_MIME_TYPE) == -1) {\n      register_renderer(events, OutputArea);\n    }\n  } catch(err) {\n  }\n}\n"
     },
     "metadata": {},
     "output_type": "display_data"
    },
    {
     "data": {
      "text/html": [
       "<style>.bk-root, .bk-root .bk:before, .bk-root .bk:after {\n",
       "  font-family: var(--jp-ui-font-size1);\n",
       "  font-size: var(--jp-ui-font-size1);\n",
       "  color: var(--jp-ui-font-color1);\n",
       "}\n",
       "</style>"
      ]
     },
     "metadata": {},
     "output_type": "display_data"
    }
   ],
   "source": [
    "import numpy as np\n",
    "import pandas as pd\n",
    "import panel as pn\n",
    "pn.extension('tabulator')\n",
    "import hvplot\n",
    "import keras\n",
    "from keras.models import Sequential\n",
    "from keras.layers import Dense, Conv1D, MaxPooling1D, Flatten, Dropout\n",
    "from sklearn.preprocessing import LabelEncoder, OneHotEncoder, StandardScaler\n",
    "from sklearn.model_selection import train_test_split\n",
    "import seaborn as sns\n",
    "import matplotlib.pyplot as plt\n",
    "import time\n",
    "import os\n",
    "from sklearn import metrics\n",
    "from scipy.stats import zscore"
   ]
  },
  {
   "cell_type": "markdown",
   "metadata": {},
   "source": [
    "<br><br><br>"
   ]
  },
  {
   "cell_type": "markdown",
   "metadata": {},
   "source": [
    "<div>\n",
    "<img src=\"img/I-1.png\" width=\"2500\"/>\n",
    "</div>"
   ]
  },
  {
   "cell_type": "markdown",
   "metadata": {},
   "source": [
    "   \n",
    "   \n",
    "   "
   ]
  },
  {
   "cell_type": "markdown",
   "metadata": {
    "id": "aLKYiuVqOyhh"
   },
   "source": [
    "\n",
    "**L'ensemble de données KDD99** est un ensemble de données volumineux et complexe avec de nombreuses fonctionnalités et types d'attaques. Pour le rendre plus accessible, une version prétraitée appelée **kddcup.data_10_percent** a été créée. Cette version contient un échantillon aléatoire de **10 %** de l'ensemble de données d'origine, ce qui réduit le coût et le temps de calcul nécessaires pour créer des modèles d'apprentissage automatique tout en fournissant un échantillon représentatif. L'utilisation de la version pré-traitée facilite également la comparaison et l'évaluation des méthodes de détection d'intrusion sur le terrain."
   ]
  },
  {
   "cell_type": "code",
   "execution_count": 3,
   "metadata": {
    "id": "xt3ywQC3NaXJ"
   },
   "outputs": [],
   "source": [
    "#Import the databse\n",
    "dataset = pd.read_csv('kddcup.data_10_percent_corrected.csv')"
   ]
  },
  {
   "cell_type": "code",
   "execution_count": 4,
   "metadata": {
    "colab": {
     "base_uri": "https://localhost:8080/",
     "height": 488
    },
    "id": "n7jIzaVDNaXM",
    "outputId": "659e3be3-9b86-4126-ec41-ae68fc8d39f9"
   },
   "outputs": [
    {
     "data": {
      "text/html": [
       "<div>\n",
       "<style scoped>\n",
       "    .dataframe tbody tr th:only-of-type {\n",
       "        vertical-align: middle;\n",
       "    }\n",
       "\n",
       "    .dataframe tbody tr th {\n",
       "        vertical-align: top;\n",
       "    }\n",
       "\n",
       "    .dataframe thead th {\n",
       "        text-align: right;\n",
       "    }\n",
       "</style>\n",
       "<table border=\"1\" class=\"dataframe\">\n",
       "  <thead>\n",
       "    <tr style=\"text-align: right;\">\n",
       "      <th></th>\n",
       "      <th>duration</th>\n",
       "      <th>protocol_type</th>\n",
       "      <th>service</th>\n",
       "      <th>flag</th>\n",
       "      <th>src_bytes</th>\n",
       "      <th>dst_bytes</th>\n",
       "      <th>land</th>\n",
       "      <th>wrong_fragment</th>\n",
       "      <th>urgent</th>\n",
       "      <th>hot</th>\n",
       "      <th>...</th>\n",
       "      <th>dst_host_srv_count</th>\n",
       "      <th>dst_host_same_srv_rate</th>\n",
       "      <th>dst_host_diff_srv_rate</th>\n",
       "      <th>dst_host_same_src_port_rate</th>\n",
       "      <th>dst_host_srv_diff_host_rate</th>\n",
       "      <th>dst_host_serror_rate</th>\n",
       "      <th>dst_host_srv_serror_rate</th>\n",
       "      <th>dst_host_rerror_rate</th>\n",
       "      <th>dst_host_srv_rerror_rate</th>\n",
       "      <th>label</th>\n",
       "    </tr>\n",
       "  </thead>\n",
       "  <tbody>\n",
       "    <tr>\n",
       "      <th>0</th>\n",
       "      <td>0</td>\n",
       "      <td>tcp</td>\n",
       "      <td>http</td>\n",
       "      <td>SF</td>\n",
       "      <td>181</td>\n",
       "      <td>5450</td>\n",
       "      <td>0</td>\n",
       "      <td>0</td>\n",
       "      <td>0</td>\n",
       "      <td>0</td>\n",
       "      <td>...</td>\n",
       "      <td>9</td>\n",
       "      <td>1.0</td>\n",
       "      <td>0.0</td>\n",
       "      <td>0.11</td>\n",
       "      <td>0.00</td>\n",
       "      <td>0.00</td>\n",
       "      <td>0.00</td>\n",
       "      <td>0.0</td>\n",
       "      <td>0.0</td>\n",
       "      <td>normal.</td>\n",
       "    </tr>\n",
       "    <tr>\n",
       "      <th>1</th>\n",
       "      <td>0</td>\n",
       "      <td>tcp</td>\n",
       "      <td>http</td>\n",
       "      <td>SF</td>\n",
       "      <td>239</td>\n",
       "      <td>486</td>\n",
       "      <td>0</td>\n",
       "      <td>0</td>\n",
       "      <td>0</td>\n",
       "      <td>0</td>\n",
       "      <td>...</td>\n",
       "      <td>19</td>\n",
       "      <td>1.0</td>\n",
       "      <td>0.0</td>\n",
       "      <td>0.05</td>\n",
       "      <td>0.00</td>\n",
       "      <td>0.00</td>\n",
       "      <td>0.00</td>\n",
       "      <td>0.0</td>\n",
       "      <td>0.0</td>\n",
       "      <td>normal.</td>\n",
       "    </tr>\n",
       "    <tr>\n",
       "      <th>2</th>\n",
       "      <td>0</td>\n",
       "      <td>tcp</td>\n",
       "      <td>http</td>\n",
       "      <td>SF</td>\n",
       "      <td>235</td>\n",
       "      <td>1337</td>\n",
       "      <td>0</td>\n",
       "      <td>0</td>\n",
       "      <td>0</td>\n",
       "      <td>0</td>\n",
       "      <td>...</td>\n",
       "      <td>29</td>\n",
       "      <td>1.0</td>\n",
       "      <td>0.0</td>\n",
       "      <td>0.03</td>\n",
       "      <td>0.00</td>\n",
       "      <td>0.00</td>\n",
       "      <td>0.00</td>\n",
       "      <td>0.0</td>\n",
       "      <td>0.0</td>\n",
       "      <td>normal.</td>\n",
       "    </tr>\n",
       "    <tr>\n",
       "      <th>3</th>\n",
       "      <td>0</td>\n",
       "      <td>tcp</td>\n",
       "      <td>http</td>\n",
       "      <td>SF</td>\n",
       "      <td>219</td>\n",
       "      <td>1337</td>\n",
       "      <td>0</td>\n",
       "      <td>0</td>\n",
       "      <td>0</td>\n",
       "      <td>0</td>\n",
       "      <td>...</td>\n",
       "      <td>39</td>\n",
       "      <td>1.0</td>\n",
       "      <td>0.0</td>\n",
       "      <td>0.03</td>\n",
       "      <td>0.00</td>\n",
       "      <td>0.00</td>\n",
       "      <td>0.00</td>\n",
       "      <td>0.0</td>\n",
       "      <td>0.0</td>\n",
       "      <td>normal.</td>\n",
       "    </tr>\n",
       "    <tr>\n",
       "      <th>4</th>\n",
       "      <td>0</td>\n",
       "      <td>tcp</td>\n",
       "      <td>http</td>\n",
       "      <td>SF</td>\n",
       "      <td>217</td>\n",
       "      <td>2032</td>\n",
       "      <td>0</td>\n",
       "      <td>0</td>\n",
       "      <td>0</td>\n",
       "      <td>0</td>\n",
       "      <td>...</td>\n",
       "      <td>49</td>\n",
       "      <td>1.0</td>\n",
       "      <td>0.0</td>\n",
       "      <td>0.02</td>\n",
       "      <td>0.00</td>\n",
       "      <td>0.00</td>\n",
       "      <td>0.00</td>\n",
       "      <td>0.0</td>\n",
       "      <td>0.0</td>\n",
       "      <td>normal.</td>\n",
       "    </tr>\n",
       "    <tr>\n",
       "      <th>...</th>\n",
       "      <td>...</td>\n",
       "      <td>...</td>\n",
       "      <td>...</td>\n",
       "      <td>...</td>\n",
       "      <td>...</td>\n",
       "      <td>...</td>\n",
       "      <td>...</td>\n",
       "      <td>...</td>\n",
       "      <td>...</td>\n",
       "      <td>...</td>\n",
       "      <td>...</td>\n",
       "      <td>...</td>\n",
       "      <td>...</td>\n",
       "      <td>...</td>\n",
       "      <td>...</td>\n",
       "      <td>...</td>\n",
       "      <td>...</td>\n",
       "      <td>...</td>\n",
       "      <td>...</td>\n",
       "      <td>...</td>\n",
       "      <td>...</td>\n",
       "    </tr>\n",
       "    <tr>\n",
       "      <th>64288</th>\n",
       "      <td>0</td>\n",
       "      <td>tcp</td>\n",
       "      <td>http</td>\n",
       "      <td>SF</td>\n",
       "      <td>310</td>\n",
       "      <td>1881</td>\n",
       "      <td>0</td>\n",
       "      <td>0</td>\n",
       "      <td>0</td>\n",
       "      <td>0</td>\n",
       "      <td>...</td>\n",
       "      <td>255</td>\n",
       "      <td>1.0</td>\n",
       "      <td>0.0</td>\n",
       "      <td>0.01</td>\n",
       "      <td>0.05</td>\n",
       "      <td>0.00</td>\n",
       "      <td>0.01</td>\n",
       "      <td>0.0</td>\n",
       "      <td>0.0</td>\n",
       "      <td>normal.</td>\n",
       "    </tr>\n",
       "    <tr>\n",
       "      <th>64289</th>\n",
       "      <td>0</td>\n",
       "      <td>tcp</td>\n",
       "      <td>http</td>\n",
       "      <td>SF</td>\n",
       "      <td>282</td>\n",
       "      <td>2286</td>\n",
       "      <td>0</td>\n",
       "      <td>0</td>\n",
       "      <td>0</td>\n",
       "      <td>0</td>\n",
       "      <td>...</td>\n",
       "      <td>255</td>\n",
       "      <td>1.0</td>\n",
       "      <td>0.0</td>\n",
       "      <td>0.17</td>\n",
       "      <td>0.05</td>\n",
       "      <td>0.00</td>\n",
       "      <td>0.01</td>\n",
       "      <td>0.0</td>\n",
       "      <td>0.0</td>\n",
       "      <td>normal.</td>\n",
       "    </tr>\n",
       "    <tr>\n",
       "      <th>64290</th>\n",
       "      <td>0</td>\n",
       "      <td>tcp</td>\n",
       "      <td>http</td>\n",
       "      <td>SF</td>\n",
       "      <td>203</td>\n",
       "      <td>1200</td>\n",
       "      <td>0</td>\n",
       "      <td>0</td>\n",
       "      <td>0</td>\n",
       "      <td>0</td>\n",
       "      <td>...</td>\n",
       "      <td>255</td>\n",
       "      <td>1.0</td>\n",
       "      <td>0.0</td>\n",
       "      <td>0.06</td>\n",
       "      <td>0.05</td>\n",
       "      <td>0.06</td>\n",
       "      <td>0.01</td>\n",
       "      <td>0.0</td>\n",
       "      <td>0.0</td>\n",
       "      <td>normal.</td>\n",
       "    </tr>\n",
       "    <tr>\n",
       "      <th>64291</th>\n",
       "      <td>0</td>\n",
       "      <td>tcp</td>\n",
       "      <td>http</td>\n",
       "      <td>SF</td>\n",
       "      <td>291</td>\n",
       "      <td>1200</td>\n",
       "      <td>0</td>\n",
       "      <td>0</td>\n",
       "      <td>0</td>\n",
       "      <td>0</td>\n",
       "      <td>...</td>\n",
       "      <td>255</td>\n",
       "      <td>1.0</td>\n",
       "      <td>0.0</td>\n",
       "      <td>0.04</td>\n",
       "      <td>0.05</td>\n",
       "      <td>0.04</td>\n",
       "      <td>0.01</td>\n",
       "      <td>0.0</td>\n",
       "      <td>0.0</td>\n",
       "      <td>normal.</td>\n",
       "    </tr>\n",
       "    <tr>\n",
       "      <th>64292</th>\n",
       "      <td>0</td>\n",
       "      <td>tcp</td>\n",
       "      <td>http</td>\n",
       "      <td>SF</td>\n",
       "      <td>219</td>\n",
       "      <td>1234</td>\n",
       "      <td>0</td>\n",
       "      <td>0</td>\n",
       "      <td>0</td>\n",
       "      <td>0</td>\n",
       "      <td>...</td>\n",
       "      <td>255</td>\n",
       "      <td>1.0</td>\n",
       "      <td>0.0</td>\n",
       "      <td>0.17</td>\n",
       "      <td>0.05</td>\n",
       "      <td>0.00</td>\n",
       "      <td>0.01</td>\n",
       "      <td>0.0</td>\n",
       "      <td>0.0</td>\n",
       "      <td>normal.</td>\n",
       "    </tr>\n",
       "  </tbody>\n",
       "</table>\n",
       "<p>64293 rows × 42 columns</p>\n",
       "</div>"
      ],
      "text/plain": [
       "       duration protocol_type service flag  src_bytes  dst_bytes  land  \\\n",
       "0             0           tcp    http   SF        181       5450     0   \n",
       "1             0           tcp    http   SF        239        486     0   \n",
       "2             0           tcp    http   SF        235       1337     0   \n",
       "3             0           tcp    http   SF        219       1337     0   \n",
       "4             0           tcp    http   SF        217       2032     0   \n",
       "...         ...           ...     ...  ...        ...        ...   ...   \n",
       "64288         0           tcp    http   SF        310       1881     0   \n",
       "64289         0           tcp    http   SF        282       2286     0   \n",
       "64290         0           tcp    http   SF        203       1200     0   \n",
       "64291         0           tcp    http   SF        291       1200     0   \n",
       "64292         0           tcp    http   SF        219       1234     0   \n",
       "\n",
       "       wrong_fragment  urgent  hot  ...  dst_host_srv_count  \\\n",
       "0                   0       0    0  ...                   9   \n",
       "1                   0       0    0  ...                  19   \n",
       "2                   0       0    0  ...                  29   \n",
       "3                   0       0    0  ...                  39   \n",
       "4                   0       0    0  ...                  49   \n",
       "...               ...     ...  ...  ...                 ...   \n",
       "64288               0       0    0  ...                 255   \n",
       "64289               0       0    0  ...                 255   \n",
       "64290               0       0    0  ...                 255   \n",
       "64291               0       0    0  ...                 255   \n",
       "64292               0       0    0  ...                 255   \n",
       "\n",
       "       dst_host_same_srv_rate  dst_host_diff_srv_rate  \\\n",
       "0                         1.0                     0.0   \n",
       "1                         1.0                     0.0   \n",
       "2                         1.0                     0.0   \n",
       "3                         1.0                     0.0   \n",
       "4                         1.0                     0.0   \n",
       "...                       ...                     ...   \n",
       "64288                     1.0                     0.0   \n",
       "64289                     1.0                     0.0   \n",
       "64290                     1.0                     0.0   \n",
       "64291                     1.0                     0.0   \n",
       "64292                     1.0                     0.0   \n",
       "\n",
       "       dst_host_same_src_port_rate  dst_host_srv_diff_host_rate  \\\n",
       "0                             0.11                         0.00   \n",
       "1                             0.05                         0.00   \n",
       "2                             0.03                         0.00   \n",
       "3                             0.03                         0.00   \n",
       "4                             0.02                         0.00   \n",
       "...                            ...                          ...   \n",
       "64288                         0.01                         0.05   \n",
       "64289                         0.17                         0.05   \n",
       "64290                         0.06                         0.05   \n",
       "64291                         0.04                         0.05   \n",
       "64292                         0.17                         0.05   \n",
       "\n",
       "       dst_host_serror_rate  dst_host_srv_serror_rate  dst_host_rerror_rate  \\\n",
       "0                      0.00                      0.00                   0.0   \n",
       "1                      0.00                      0.00                   0.0   \n",
       "2                      0.00                      0.00                   0.0   \n",
       "3                      0.00                      0.00                   0.0   \n",
       "4                      0.00                      0.00                   0.0   \n",
       "...                     ...                       ...                   ...   \n",
       "64288                  0.00                      0.01                   0.0   \n",
       "64289                  0.00                      0.01                   0.0   \n",
       "64290                  0.06                      0.01                   0.0   \n",
       "64291                  0.04                      0.01                   0.0   \n",
       "64292                  0.00                      0.01                   0.0   \n",
       "\n",
       "       dst_host_srv_rerror_rate    label  \n",
       "0                           0.0  normal.  \n",
       "1                           0.0  normal.  \n",
       "2                           0.0  normal.  \n",
       "3                           0.0  normal.  \n",
       "4                           0.0  normal.  \n",
       "...                         ...      ...  \n",
       "64288                       0.0  normal.  \n",
       "64289                       0.0  normal.  \n",
       "64290                       0.0  normal.  \n",
       "64291                       0.0  normal.  \n",
       "64292                       0.0  normal.  \n",
       "\n",
       "[64293 rows x 42 columns]"
      ]
     },
     "execution_count": 4,
     "metadata": {},
     "output_type": "execute_result"
    }
   ],
   "source": [
    "#Print the databse\n",
    "dataset"
   ]
  },
  {
   "cell_type": "code",
   "execution_count": 5,
   "metadata": {
    "id": "Y7B8QidONaXV"
   },
   "outputs": [],
   "source": [
    "#Rename the attack label to outcome\n",
    "dataset.rename(columns = {'label':'outcome'}, inplace = True)"
   ]
  },
  {
   "cell_type": "markdown",
   "metadata": {},
   "source": [
    "<div style=\"margin-left: 250\">\n",
    "<img src=\"img/I-3.png\" width=\"4000\"/>\n",
    "</div>"
   ]
  },
  {
   "cell_type": "markdown",
   "metadata": {},
   "source": [
    "Pour analyser notre base de données, nous devons obtenir le pourcentage de chaque valeur possible dans chaque colonne, pour ce faire :\n",
    "\n",
    "\n",
    "\n",
    "* développer toutes les valeurs des catégories dans chaque colonne\n",
    "* obtenir le nombre de valeurs de catégories dans chaque colonne de l'ensemble de données\n",
    "* obtenir le pourcentage de la valeur de chaque catégorie dans chaque colonne\n",
    "* exécuter la fonction sur chaque colonne\n"
   ]
  },
  {
   "cell_type": "code",
   "execution_count": 6,
   "metadata": {
    "colab": {
     "base_uri": "https://localhost:8080/"
    },
    "id": "2rfW7DAwNaXX",
    "outputId": "944809e0-2db4-4bcb-92a1-147393b525be"
   },
   "outputs": [
    {
     "name": "stdout",
     "output_type": "stream",
     "text": [
      "\n",
      "64293 rows\n",
      "** duration:178 (0%)\n",
      "** protocol_type:[tcp:100.0%]\n",
      "** service:[http:100.0%]\n",
      "** flag:[SF:91.06%,REJ:8.33%,S0:0.31%,RSTR:0.14%,RSTO:0.06%,S1:0.06%,S2:0.03%,S3:0.01%]\n",
      "** src_bytes:435 (0%)\n",
      "** dst_bytes:10414 (16%)\n",
      "** land:[0:100.0%]\n",
      "** wrong_fragment:[0:100.0%]\n",
      "** urgent:[0:100.0%]\n",
      "** hot:[0:96.34%,2:3.36%,1:0.28%,4:0.01%,3:0.01%]\n",
      "** num_failed_logins:[0:100.0%]\n",
      "** logged_in:[1:91.34%,0:8.66%]\n",
      "** num_compromised:[0:96.68%,1:3.31%,4:0.01%,2:0.0%]\n",
      "** root_shell:[0:99.97%,1:0.03%]\n",
      "** su_attempted:[0:100.0%]\n",
      "** num_root:[0:100.0%,1:0.0%]\n",
      "** num_file_creations:[0:100.0%]\n",
      "** num_shells:[0:100.0%]\n",
      "** num_access_files:[0:99.5%,1:0.5%]\n",
      "** num_outbound_cmds:[0:100.0%]\n",
      "** is_host_login:[0:100.0%]\n",
      "** is_guest_login:[0:100.0%]\n",
      "** count:163 (0%)\n",
      "** srv_count:[1:13.37%,2:8.5%,3:6.33%,4:5.99%,5:5.26%,6:4.75%,7:4.11%,8:3.91%,9:3.51%,10:3.24%,11:3.19%,12:2.85%,13:2.67%,14:2.58%,15:2.28%,16:2.21%,17:1.89%,18:1.88%,19:1.78%,20:1.61%,21:1.49%,22:1.26%,23:1.18%,24:1.16%,25:1.09%,26:0.93%,27:0.86%,28:0.84%,29:0.82%,30:0.7%,31:0.68%,33:0.59%,32:0.54%,34:0.54%,36:0.47%,35:0.47%,37:0.43%,38:0.38%,39:0.38%,40:0.34%,41:0.27%,42:0.25%,43:0.22%,44:0.2%,46:0.17%,45:0.16%,47:0.16%,48:0.13%,49:0.12%,50:0.11%,51:0.1%,53:0.1%,52:0.09%,54:0.09%,55:0.08%,56:0.06%,57:0.06%,59:0.05%,58:0.05%,60:0.04%,63:0.04%,61:0.04%,62:0.03%,68:0.03%,64:0.03%,66:0.02%,65:0.02%,67:0.02%,72:0.02%,76:0.02%,73:0.02%,69:0.02%,70:0.02%,79:0.01%,71:0.01%,80:0.01%,75:0.01%,74:0.01%,77:0.01%,85:0.01%,86:0.01%,84:0.0%,89:0.0%,82:0.0%,100:0.0%,83:0.0%,78:0.0%,81:0.0%,105:0.0%,106:0.0%,87:0.0%,91:0.0%,88:0.0%,104:0.0%,92:0.0%,98:0.0%,103:0.0%,94:0.0%,109:0.0%]\n",
      "** serror_rate:[0.0:98.69%,1.0:0.28%,0.5:0.09%,0.06:0.08%,0.07:0.08%,0.25:0.08%,0.05:0.08%,0.03:0.07%,0.17:0.07%,0.04:0.07%,0.33:0.06%,0.08:0.06%,0.2:0.05%,0.11:0.04%,0.09:0.04%,0.1:0.04%,0.14:0.03%,0.12:0.03%,0.02:0.02%,0.22:0.0%,0.88:0.0%,0.94:0.0%,0.98:0.0%,0.93:0.0%,0.92:0.0%,0.78:0.0%,0.95:0.0%,0.01:0.0%,0.19:0.0%]\n",
      "** srv_serror_rate:[0.0:97.92%,1.0:0.25%,0.03:0.21%,0.04:0.19%,0.05:0.17%,0.06:0.14%,0.02:0.13%,0.08:0.11%,0.07:0.1%,0.17:0.08%,0.25:0.08%,0.5:0.07%,0.09:0.07%,0.1:0.07%,0.12:0.07%,0.33:0.07%,0.2:0.07%,0.11:0.07%,0.14:0.05%,0.01:0.02%,0.18:0.01%,0.19:0.01%,0.95:0.01%,0.94:0.01%,0.15:0.0%,0.4:0.0%,0.88:0.0%,0.67:0.0%,0.22:0.0%,0.27:0.0%,0.92:0.0%,0.83:0.0%,0.21:0.0%,0.9:0.0%,0.86:0.0%,0.93:0.0%,0.51:0.0%,0.23:0.0%,0.44:0.0%,0.75:0.0%,0.45:0.0%,0.35:0.0%,0.36:0.0%,0.91:0.0%,0.37:0.0%,0.38:0.0%,0.16:0.0%,0.8:0.0%]\n",
      "** rerror_rate:[0.0:90.88%,1.0:8.32%,0.25:0.14%,0.2:0.1%,0.5:0.1%,0.33:0.1%,0.17:0.06%,0.14:0.03%,0.06:0.03%,0.05:0.02%,0.08:0.02%,0.1:0.02%,0.12:0.02%,0.09:0.02%,0.07:0.02%,0.03:0.02%,0.11:0.02%,0.67:0.01%,0.75:0.01%,0.4:0.01%,0.02:0.01%,0.04:0.01%,0.71:0.01%,0.83:0.01%,0.6:0.0%,0.86:0.0%,0.92:0.0%,0.81:0.0%,0.91:0.0%,0.22:0.0%,0.88:0.0%,0.69:0.0%,0.37:0.0%,0.82:0.0%,0.73:0.0%,0.89:0.0%,0.96:0.0%,0.9:0.0%,0.29:0.0%,0.62:0.0%]\n",
      "** srv_rerror_rate:[0.0:89.42%,1.0:8.17%,0.33:0.38%,0.5:0.28%,0.25:0.27%,0.2:0.22%,0.17:0.2%,0.14:0.11%,0.04:0.09%,0.12:0.09%,0.03:0.09%,0.06:0.08%,0.02:0.08%,0.05:0.06%,0.07:0.06%,0.4:0.05%,0.67:0.04%,0.08:0.04%,0.11:0.04%,0.29:0.04%,0.09:0.04%,0.1:0.02%,0.75:0.02%,0.6:0.02%,0.01:0.01%,0.71:0.01%,0.22:0.01%,0.83:0.0%,0.79:0.0%,0.88:0.0%,0.81:0.0%,0.92:0.0%,0.96:0.0%,0.18:0.0%,0.43:0.0%,0.73:0.0%,0.27:0.0%,0.85:0.0%,0.93:0.0%,0.8:0.0%,0.62:0.0%,0.69:0.0%,0.86:0.0%,0.37:0.0%,0.82:0.0%,0.87:0.0%,0.95:0.0%,0.21:0.0%,0.38:0.0%,0.13:0.0%]\n",
      "** same_srv_rate:[1.0:99.66%,0.06:0.02%,0.03:0.02%,0.05:0.02%,0.07:0.02%,0.02:0.02%,0.04:0.02%,0.01:0.02%,0.67:0.01%,0.33:0.01%,0.8:0.01%,0.75:0.01%,0.08:0.01%,0.26:0.01%,0.86:0.01%,0.37:0.01%,0.32:0.01%,0.25:0.01%,0.5:0.01%,0.43:0.0%,0.54:0.0%,0.34:0.0%,0.09:0.0%,0.1:0.0%,0.31:0.0%,0.0:0.0%,0.3:0.0%,0.14:0.0%,0.38:0.0%,0.42:0.0%,0.52:0.0%,0.39:0.0%,0.29:0.0%,0.36:0.0%,0.12:0.0%,0.22:0.0%,0.89:0.0%,0.88:0.0%,0.47:0.0%,0.83:0.0%,0.78:0.0%,0.56:0.0%,0.19:0.0%,0.9:0.0%,0.24:0.0%,0.6:0.0%,0.95:0.0%,0.94:0.0%,0.59:0.0%,0.73:0.0%,0.62:0.0%,0.48:0.0%,0.23:0.0%,0.35:0.0%,0.2:0.0%,0.92:0.0%,0.27:0.0%,0.45:0.0%]\n",
      "** diff_srv_rate:[0.0:99.66%,0.06:0.09%,0.07:0.07%,0.05:0.02%,0.08:0.02%,0.67:0.01%,0.5:0.01%,0.09:0.01%,0.4:0.01%,0.17:0.01%,1.0:0.01%,0.1:0.01%,0.21:0.01%,0.29:0.01%,0.14:0.01%,0.25:0.0%,0.33:0.0%,0.11:0.0%,0.12:0.0%,0.18:0.0%,0.15:0.0%,0.22:0.0%,0.2:0.0%,0.24:0.0%,0.57:0.0%,0.23:0.0%,0.31:0.0%,0.53:0.0%,0.6:0.0%,0.36:0.0%,0.62:0.0%,0.42:0.0%,0.3:0.0%,0.44:0.0%,0.16:0.0%]\n",
      "** srv_diff_host_rate:[0.0:61.8%,1.0:3.36%,0.12:2.17%,0.11:1.75%,0.33:1.72%,0.5:1.71%,0.1:1.59%,0.25:1.57%,0.14:1.5%,0.08:1.48%,0.67:1.45%,0.17:1.42%,0.09:1.39%,0.15:1.35%,0.2:1.31%,0.07:1.3%,0.18:1.29%,0.4:1.23%,0.29:1.17%,0.13:1.16%,0.22:1.1%,0.06:1.05%,0.05:0.71%,0.21:0.56%,0.19:0.53%,0.16:0.53%,0.27:0.44%,0.04:0.36%,0.3:0.36%,0.23:0.35%,0.43:0.35%,0.38:0.34%,0.6:0.31%,0.75:0.28%,0.24:0.18%,0.36:0.16%,0.31:0.12%,0.03:0.08%,0.57:0.07%,0.44:0.06%,0.26:0.05%,0.28:0.05%,0.8:0.05%,0.42:0.04%,0.62:0.02%,0.45:0.02%,0.56:0.02%,0.35:0.02%,0.71:0.01%,0.83:0.01%,0.32:0.01%,0.47:0.01%,0.55:0.0%,0.37:0.0%,0.41:0.0%,0.46:0.0%,0.54:0.0%,0.02:0.0%,0.88:0.0%,0.7:0.0%,0.64:0.0%,0.86:0.0%]\n",
      "** dst_host_count:256 (0%)\n",
      "** dst_host_srv_count:256 (0%)\n",
      "** dst_host_same_srv_rate:[1.0:95.95%,0.98:0.69%,0.96:0.55%,0.97:0.46%,0.99:0.38%,0.95:0.31%,0.94:0.26%,0.93:0.2%,0.92:0.11%,0.89:0.11%,0.88:0.11%,0.91:0.1%,0.87:0.09%,0.9:0.06%,0.85:0.05%,0.86:0.04%,0.83:0.04%,0.05:0.03%,0.25:0.03%,0.07:0.03%,0.84:0.03%,0.03:0.03%,0.02:0.02%,0.82:0.02%,0.01:0.02%,0.04:0.02%,0.0:0.01%,0.26:0.01%,0.06:0.01%,0.24:0.01%,0.08:0.01%,0.81:0.01%,0.76:0.01%,0.74:0.01%,0.8:0.01%,0.73:0.01%,0.17:0.01%,0.22:0.01%,0.78:0.01%,0.7:0.01%,0.27:0.01%,0.23:0.01%,0.09:0.01%,0.67:0.01%,0.19:0.0%,0.21:0.0%,0.61:0.0%,0.75:0.0%,0.64:0.0%,0.79:0.0%,0.52:0.0%,0.72:0.0%,0.2:0.0%,0.77:0.0%,0.28:0.0%,0.45:0.0%,0.3:0.0%,0.66:0.0%,0.38:0.0%,0.71:0.0%,0.16:0.0%,0.18:0.0%,0.15:0.0%,0.6:0.0%,0.29:0.0%,0.13:0.0%,0.12:0.0%,0.59:0.0%,0.1:0.0%,0.47:0.0%,0.69:0.0%,0.56:0.0%,0.11:0.0%,0.68:0.0%,0.57:0.0%,0.58:0.0%,0.5:0.0%,0.48:0.0%]\n",
      "** dst_host_diff_srv_rate:[0.0:95.7%,0.01:2.76%,0.02:0.96%,0.03:0.12%,0.07:0.1%,0.04:0.1%,0.05:0.07%,0.06:0.06%,0.08:0.05%,0.1:0.01%,1.0:0.01%,0.09:0.01%,0.16:0.01%,0.18:0.0%,0.14:0.0%,0.11:0.0%,0.17:0.0%,0.2:0.0%,0.12:0.0%,0.33:0.0%,0.25:0.0%,0.32:0.0%,0.36:0.0%,0.13:0.0%,0.15:0.0%,0.5:0.0%,0.3:0.0%,0.27:0.0%,0.24:0.0%]\n",
      "** dst_host_same_src_port_rate:[0.0:38.19%,0.01:19.32%,0.02:8.46%,0.03:5.66%,0.04:3.5%,0.05:2.72%,1.0:2.63%,0.5:2.29%,0.06:2.24%,0.33:1.84%,0.08:1.79%,0.07:1.67%,0.25:1.65%,0.2:1.42%,0.17:1.32%,0.12:1.13%,0.14:1.12%,0.11:1.08%,0.1:1.04%,0.09:0.9%,0.67:0.0%,0.4:0.0%,0.18:0.0%,0.15:0.0%,0.29:0.0%,0.22:0.0%,0.69:0.0%,0.62:0.0%,0.13:0.0%]\n",
      "** dst_host_srv_diff_host_rate:[0.0:38.69%,0.02:13.26%,0.04:9.53%,0.01:9.45%,0.03:8.61%,0.05:6.69%,0.06:2.75%,0.07:2.2%,0.08:0.91%,0.09:0.86%,0.16:0.59%,0.15:0.56%,0.11:0.55%,0.13:0.53%,0.1:0.5%,0.2:0.45%,0.18:0.45%,0.17:0.42%,0.14:0.42%,0.12:0.38%,0.19:0.33%,0.21:0.32%,0.22:0.3%,0.24:0.2%,0.23:0.16%,0.25:0.13%,0.27:0.12%,0.26:0.1%,0.29:0.07%,0.28:0.06%,0.33:0.06%,0.31:0.05%,0.3:0.05%,0.32:0.04%,0.5:0.02%,0.38:0.02%,0.34:0.02%,0.35:0.02%,0.36:0.02%,1.0:0.02%,0.4:0.01%,0.37:0.01%,0.67:0.01%,0.44:0.01%,0.42:0.01%,0.57:0.0%,0.43:0.0%,0.46:0.0%,0.39:0.0%,0.41:0.0%,0.6:0.0%,0.8:0.0%,0.7:0.0%,0.47:0.0%]\n",
      "** dst_host_serror_rate:[0.0:94.72%,0.01:3.43%,0.02:0.65%,0.03:0.33%,1.0:0.26%,0.04:0.13%,0.05:0.1%,0.06:0.08%,0.07:0.05%,0.08:0.04%,0.33:0.03%,0.1:0.02%,0.11:0.02%,0.09:0.02%,0.12:0.02%,0.17:0.02%,0.2:0.02%,0.5:0.02%,0.25:0.01%,0.14:0.01%,0.99:0.0%,0.47:0.0%,0.28:0.0%,0.16:0.0%,0.13:0.0%,0.82:0.0%,0.9:0.0%]\n",
      "** dst_host_srv_serror_rate:[0.0:93.31%,0.01:5.81%,0.02:0.44%,1.0:0.26%,0.03:0.09%,0.04:0.06%,0.05:0.01%,0.1:0.0%,0.07:0.0%,0.06:0.0%,0.09:0.0%,0.08:0.0%,0.2:0.0%,0.17:0.0%]\n",
      "** dst_host_rerror_rate:101 (0%)\n",
      "** dst_host_srv_rerror_rate:101 (0%)\n",
      "** outcome:[normal.:96.26%,back.:3.43%,neptune.:0.3%,phf.:0.01%,ipsweep.:0.0%,portsweep.:0.0%,satan.:0.0%]\n"
     ]
    }
   ],
   "source": [
    "# define expanding the categories function\n",
    "def expand_categories(values):\n",
    "    result = []\n",
    "    s = values.value_counts()\n",
    "    t = float(len(values))\n",
    "    for v in s.index:\n",
    "        result.append(\"{}:{}%\".format(v,round(100*(s[v]/t),2)))\n",
    "    return \"[{}]\".format(\",\".join(result))\n",
    "\n",
    "# define analyze function      \n",
    "def analyze(df):\n",
    "    print()\n",
    "    cols = df.columns.values\n",
    "    total = float(len(df))\n",
    "\n",
    "    print(\"{} rows\".format(int(total)))\n",
    "    for col in cols:\n",
    "        uniques = df[col].unique()\n",
    "        unique_count = len(uniques)\n",
    "        if unique_count>100:\n",
    "            print(\"** {}:{} ({}%)\".format(col,unique_count,\\\n",
    "                int(((unique_count)/total)*100)))\n",
    "        else:\n",
    "            print(\"** {}:{}\".format(col,expand_categories(df[col])))\n",
    "            expand_categories(df[col])\n",
    "\n",
    "analyze(dataset)"
   ]
  },
  {
   "cell_type": "code",
   "execution_count": 8,
   "metadata": {},
   "outputs": [
    {
     "data": {
      "text/plain": [
       "Text(0.5, 1.0, 'Le nombre de données par leur type de protocole internet')"
      ]
     },
     "execution_count": 8,
     "metadata": {},
     "output_type": "execute_result"
    },
    {
     "data": {
      "image/png": "[encoded data removed]",
      "text/plain": [
       "<Figure size 2160x2160 with 1 Axes>"
      ]
     },
     "metadata": {
      "needs_background": "light"
     },
     "output_type": "display_data"
    }
   ],
   "source": [
    "df=dataset\n",
    "z1 = df[(df.outcome == 'normal.')]\n",
    "z2 = df[(df.outcome == 'neptune.')]\n",
    "z3 = df[(df.outcome == 'back.')]\n",
    "z4 = df[(df.outcome == 'phf.')]\n",
    "z5 = df[(df.outcome == 'ipsweep.')]\n",
    "z6 = df[(df.outcome == 'portsweep.')]\n",
    "z7 = df[(df.outcome == 'satan.')]\n",
    "\n",
    "c = [\"normal\",\"neptune\",\"back\",\"phf\",\"ipsweep\",\"portsweep\",\"satan\"]\n",
    "v = [len(z1),len(z2),len(z3),len(z4),len(z5),len(z6),len(z7)]\n",
    "\n",
    "plt.figure(figsize=(30, 30))\n",
    "plt.bar(c, v)\n",
    "\n",
    "plt.xticks(rotation = 45)\n",
    "plt.xlabel(\"Type de protocole\",fontsize = 45)\n",
    "plt.ylabel(\"Nombre de données\",fontsize = 45)\n",
    "plt.title(\"Le nombre de données par leur type de protocole internet\",fontsize = 40)"
   ]
  },
  {
   "cell_type": "markdown",
   "metadata": {},
   "source": [
    "<div style=\"margin-left: 250\">\n",
    "<img src=\"img/I-4.png\" width=\"4000\"/>\n",
    "</div>"
   ]
  },
  {
   "cell_type": "markdown",
   "metadata": {
    "id": "YUIFxTb5NaXY"
   },
   "source": [
    "Pour prétraiter notre base de données, nous devons :\n",
    "\n",
    "* Supprimez les fonctionnalités qui ne sont pas nécessaires\n",
    "* Séparez les caractéristiques et les étiquettes\n",
    "* Encoder les étiquettes catégorielles en nombres entiers\n",
    "\n",
    "     > Pour encoder les étiquettes catégorielles, nous avons besoin de la fonction LabelEncoder qui est utilisée pour normaliser les étiquettes. Il peut également être utilisé pour transformer des étiquettes non numériques (tant qu'elles sont hachables et comparables) en étiquettes numériques. Monter l'encodeur d'étiquette. Installez l'encodeur d'étiquettes et renvoyez les étiquettes codées.\n",
    "* Encodage à chaud des étiquettes\n",
    "\n",
    "     > Un encodage à chaud est un processus de conversion de variables de données catégorielles afin qu'elles puissent être fournies aux algorithmes d'apprentissage automatique pour améliorer les prédictions. Un encodage à chaud est un élément crucial de l'ingénierie des fonctionnalités pour l'apprentissage automatique.\n",
    "\n",
    "* Fonctionnalité de mise à l'échelle des données d'entrée\n"
   ]
  },
  {
   "cell_type": "code",
   "execution_count": 9,
   "metadata": {
    "id": "weYqa4SANaXZ"
   },
   "outputs": [],
   "source": [
    "# Drop the features that are not required\n",
    "dataset = dataset.drop(dataset.columns[[0, 1, 2, 3, 6, 11, 13, 14, 15, 20, 21]], axis=1)\n",
    "\n",
    "# Separate the features and labels\n",
    "X = dataset.iloc[:, :-1].values\n",
    "y = dataset.iloc[:, -1].values\n",
    "\n",
    "# Encode the categorical labels into integers\n",
    "label_encoder_y = LabelEncoder()\n",
    "y = label_encoder_y.fit_transform(y)\n",
    "\n",
    "# One-hot encoding the labels\n",
    "onehotencoder = OneHotEncoder(categories='auto')\n",
    "y = onehotencoder.fit_transform(y.reshape(-1, 1)).toarray()\n",
    "\n",
    "# Feature scaling the input data\n",
    "scaler = StandardScaler()\n",
    "X = scaler.fit_transform(X)"
   ]
  },
  {
   "cell_type": "code",
   "execution_count": 10,
   "metadata": {},
   "outputs": [
    {
     "data": {
      "text/plain": [
       "array([[-0.19374   ,  0.06287188,  0.        , ..., -0.06568139,\n",
       "        -0.31953643, -0.32350066],\n",
       "       [-0.1878376 , -0.19854594,  0.        , ..., -0.06568139,\n",
       "        -0.31953643, -0.32350066],\n",
       "       [-0.18824467, -0.15372995,  0.        , ..., -0.06568139,\n",
       "        -0.31953643, -0.32350066],\n",
       "       ...,\n",
       "       [-0.19150116, -0.16094474,  0.        , ...,  0.1299207 ,\n",
       "        -0.31953643, -0.32350066],\n",
       "       [-0.1825458 , -0.16094474,  0.        , ...,  0.1299207 ,\n",
       "        -0.31953643, -0.32350066],\n",
       "       [-0.18987291, -0.15915421,  0.        , ...,  0.1299207 ,\n",
       "        -0.31953643, -0.32350066]])"
      ]
     },
     "execution_count": 10,
     "metadata": {},
     "output_type": "execute_result"
    }
   ],
   "source": [
    "X"
   ]
  },
  {
   "cell_type": "code",
   "execution_count": 11,
   "metadata": {},
   "outputs": [
    {
     "data": {
      "text/plain": [
       "array([[0., 0., 0., ..., 0., 0., 0.],\n",
       "       [0., 0., 0., ..., 0., 0., 0.],\n",
       "       [0., 0., 0., ..., 0., 0., 0.],\n",
       "       ...,\n",
       "       [0., 0., 0., ..., 0., 0., 0.],\n",
       "       [0., 0., 0., ..., 0., 0., 0.],\n",
       "       [0., 0., 0., ..., 0., 0., 0.]])"
      ]
     },
     "execution_count": 11,
     "metadata": {},
     "output_type": "execute_result"
    }
   ],
   "source": [
    "y"
   ]
  },
  {
   "cell_type": "markdown",
   "metadata": {},
   "source": [
    "<div style=\"margin-left: 250\">\n",
    "<img src=\"img/I-5.png\" width=\"4000\"/>\n",
    "</div>"
   ]
  },
  {
   "cell_type": "markdown",
   "metadata": {
    "id": "ekF9gJZbNaXa"
   },
   "source": [
    "Fractionnement d'une base de données en ensembles d'entraînement et de test à l'aide de la fonction **train_test_split** à partir d'une bibliothèque d'apprentissage automatique, telle que scikit-learn. Voici une ventilation du code :\n",
    "\n",
    "- **X** représente les caractéristiques ou les variables indépendantes de votre jeu de données.\n",
    "- **y** représente la cible ou la variable dépendante que vous souhaitez prédire ou classer.\n",
    "- **test_size=0.3** indique que 30 % des données seront utilisées pour les tests, tandis que 70 % seront utilisées pour la formation.\n",
    "- **random_state=42** définit une graine aléatoire spécifique, garantissant que la répartition des données est reproductible. La valeur \"42\" est arbitraire et peut être n'importe quel autre nombre entier.\n",
    "- **X_train :** L'ensemble de fonctionnalités d'entraînement (70 % des données d'origine).\n",
    "- **X_test :** L'ensemble de fonctionnalités de test (30 % des données d'origine).\n",
    "- **y_train :** L'ensemble d'apprentissage des valeurs cibles correspondant aux données **X_train**.\n",
    "- **y_test :** L'ensemble de test des valeurs cibles correspondant aux données **X_test**.\n",
    "\n",
    "Ces divisions sont couramment utilisées dans l'apprentissage automatique pour évaluer les performances d'un modèle en l'entraînant sur l'ensemble d'apprentissage, puis en le testant sur l'ensemble de test invisible."
   ]
  },
  {
   "cell_type": "code",
   "execution_count": 12,
   "metadata": {
    "id": "TVzXp7fLNaXb"
   },
   "outputs": [],
   "source": [
    "#Split the database into train and test sets\n",
    "X_train, X_test, y_train, y_test = train_test_split(X, y, test_size=0.3, random_state=42)"
   ]
  },
  {
   "cell_type": "markdown",
   "metadata": {},
   "source": [
    "<br><br><br><br><br><br>"
   ]
  },
  {
   "cell_type": "markdown",
   "metadata": {},
   "source": [
    "<div style=\"margin-left: 250\">\n",
    "<img src=\"img/II-1.png\" width=\"4000\"/>\n",
    "</div>"
   ]
  },
  {
   "cell_type": "markdown",
   "metadata": {},
   "source": [
    "**l'algorithme CNN** est le **plus précis** et le plus efficace pour détecter les intrusions simplement en comparant la performance de la masseuse pour chaque algorithme, et pour cela, je doit utiliser **l'algorithme CNN** comme algorithme principal pour mon étude sur la détection d'intrusion à l'aide de l'apprentissage en profondeur."
   ]
  },
  {
   "cell_type": "markdown",
   "metadata": {
    "id": "0XLoNTNROTkU"
   },
   "source": [
    "<div style=\"margin-left: 250\">\n",
    "<img src=\"img/II-2.png\" width=\"4000\"/>\n",
    "</div>"
   ]
  },
  {
   "cell_type": "markdown",
   "metadata": {
    "id": "V8GYSHu0NaXd"
   },
   "source": [
    "### **Création du modèle 1 de CNN**\n",
    "\n",
    "Création d'un modèle CNN pour un problème de classification à l'aide de couches Keras :\n",
    "\n",
    "\n",
    "1. Crée une instance de la classe Sequential, qui est un modèle Keras.\n",
    "\n",
    "2. Ajoute une **couche convolutive 1D** au modèle avec **64 filtres**, une taille de noyau de **3** et une fonction d'activation **ReLU**. La forme d'entrée est spécifiée sous la forme **(X_train.shape[1], 1)**, ce qui signifie que les données d'entrée sont **unidimensionnelles** et que le nombre d'entités est égal à **X_train.shape[1] **.\n",
    "\n",
    "3. Ajoute une **couche de pooling** maximale au modèle avec une taille de pool de **2**.\n",
    "\n",
    "4. Ajoute une autre **couche convolutive 1D** au modèle avec **32 filtres**, une taille de noyau de **3** et une fonction d'activation **ReLU**.\n",
    "\n",
    "5. Ajoute une autre **couche de pooling** max au modèle avec une taille de pool de **2**.\n",
    "\n",
    "6. **Aplatit** la sortie des **couches convolutives** en un tableau **à une dimension**.\n",
    "\n",
    "7. Ajoute une **couche entièrement connectée** au modèle avec **128 neurones** et une fonction d'activation **ReLU**.\n",
    "\n",
    "8. Ajoute une **couche de suppression** au modèle avec un taux de suppression de **0,2**. L'abandon est une technique de régularisation qui abandonne aléatoirement **(met à zéro)** certains des neurones de la couche pendant l'entraînement, **ce qui aide à prévenir le surajustement**.\n",
    "\n",
    "9. Ajoute la **couche de sortie** au modèle. Le nombre de neurones dans la couche de sortie est **égal** au nombre de classes dans le problème, qui est **y_train.shape[1]**. La fonction d'activation utilisée est **softmax**, qui produit une distribution de probabilité sur les classes.\n",
    "\n",
    "10. Compile le modèle en spécifiant l'optimiseur **(adam)**, la fonction de perte **(entropie croisée catégorielle)** et la métrique d'évaluation **(précision)**.\n",
    "\n",
    "11. Imprime un résumé de l'architecture du modèle, y compris les couches, le nombre de paramètres et les formes de sortie.\n",
    "\n",
    "> Crée un modèle CNN avec deux couches convolutives 1D, deux couches de regroupement maximum, une couche entièrement connectée, une couche d'abandon et une couche de sortie. Le modèle est compilé avec l'optimiseur Adam et la fonction de perte d'entropie croisée catégorielle, et est évalué à l'aide de la métrique de précision."
   ]
  },
  {
   "cell_type": "code",
   "execution_count": 13,
   "metadata": {
    "colab": {
     "base_uri": "https://localhost:8080/"
    },
    "id": "3Yix5JaiNaXe",
    "outputId": "24558f6c-8d30-42d9-8a61-c99efe544180"
   },
   "outputs": [
    {
     "name": "stdout",
     "output_type": "stream",
     "text": [
      "Model: \"sequential\"\n",
      "_________________________________________________________________\n",
      " Layer (type)                Output Shape              Param #   \n",
      "=================================================================\n",
      " conv1d (Conv1D)             (None, 28, 64)            256       \n",
      "                                                                 \n",
      " max_pooling1d (MaxPooling1D  (None, 14, 64)           0         \n",
      " )                                                               \n",
      "                                                                 \n",
      " conv1d_1 (Conv1D)           (None, 12, 32)            6176      \n",
      "                                                                 \n",
      " max_pooling1d_1 (MaxPooling  (None, 6, 32)            0         \n",
      " 1D)                                                             \n",
      "                                                                 \n",
      " flatten (Flatten)           (None, 192)               0         \n",
      "                                                                 \n",
      " dense (Dense)               (None, 128)               24704     \n",
      "                                                                 \n",
      " dropout (Dropout)           (None, 128)               0         \n",
      "                                                                 \n",
      " dense_1 (Dense)             (None, 7)                 903       \n",
      "                                                                 \n",
      "=================================================================\n",
      "Total params: 32,039\n",
      "Trainable params: 32,039\n",
      "Non-trainable params: 0\n",
      "_________________________________________________________________\n"
     ]
    }
   ],
   "source": [
    "classifier = Sequential()\n",
    "\n",
    "# Add convolutional layer\n",
    "classifier.add(Conv1D(filters=64, kernel_size=3, activation='relu', input_shape=(X_train.shape[1], 1)))\n",
    "\n",
    "# Add max pooling layer\n",
    "classifier.add(MaxPooling1D(pool_size=2))\n",
    "\n",
    "# Add another convolutional layer\n",
    "classifier.add(Conv1D(filters=32, kernel_size=3, activation='relu'))\n",
    "\n",
    "# Add max pooling layer\n",
    "classifier.add(MaxPooling1D(pool_size=2))\n",
    "\n",
    "# Flatten the output from convolutional layers\n",
    "classifier.add(Flatten())\n",
    "\n",
    "# Add fully connected layer\n",
    "classifier.add(Dense(units=128, activation='relu'))\n",
    "\n",
    "# Add dropout layer to prevent overfitting\n",
    "classifier.add(Dropout(rate=0.2))\n",
    "\n",
    "# Add output layer\n",
    "classifier.add(Dense(units=y_train.shape[1], activation='softmax'))\n",
    "\n",
    "# Compile the model\n",
    "classifier.compile(optimizer='adam', loss='categorical_crossentropy', metrics=['accuracy'])\n",
    "\n",
    "# Print the model summary\n",
    "classifier.summary()"
   ]
  },
  {
   "cell_type": "markdown",
   "metadata": {
    "id": "kn4YlAXKNaXf"
   },
   "source": [
    "### **Création du modèle 2 de CNN**\n",
    "\n",
    "**Modèle 2 :** Remplacez la fonction d'activation par **LeakyReLU**, l'optimiseur par **RMSprop**, la fonction de perte par **mean squared error** et **augmentez** le taux d'abandon."
   ]
  },
  {
   "cell_type": "code",
   "execution_count": 14,
   "metadata": {
    "colab": {
     "base_uri": "https://localhost:8080/"
    },
    "id": "xD6W7tSBNaXg",
    "outputId": "7b7873a5-bec9-4dfd-fccb-3504f76c0889"
   },
   "outputs": [
    {
     "name": "stdout",
     "output_type": "stream",
     "text": [
      "Model: \"sequential_1\"\n",
      "_________________________________________________________________\n",
      " Layer (type)                Output Shape              Param #   \n",
      "=================================================================\n",
      " conv1d_2 (Conv1D)           (None, 28, 128)           512       \n",
      "                                                                 \n",
      " max_pooling1d_2 (MaxPooling  (None, 14, 128)          0         \n",
      " 1D)                                                             \n",
      "                                                                 \n",
      " conv1d_3 (Conv1D)           (None, 12, 64)            24640     \n",
      "                                                                 \n",
      " max_pooling1d_3 (MaxPooling  (None, 6, 64)            0         \n",
      " 1D)                                                             \n",
      "                                                                 \n",
      " flatten_1 (Flatten)         (None, 384)               0         \n",
      "                                                                 \n",
      " dense_2 (Dense)             (None, 256)               98560     \n",
      "                                                                 \n",
      " dropout_1 (Dropout)         (None, 256)               0         \n",
      "                                                                 \n",
      " dense_3 (Dense)             (None, 7)                 1799      \n",
      "                                                                 \n",
      "=================================================================\n",
      "Total params: 125,511\n",
      "Trainable params: 125,511\n",
      "Non-trainable params: 0\n",
      "_________________________________________________________________\n"
     ]
    }
   ],
   "source": [
    "from keras.layers import LeakyReLU\n",
    "from keras.optimizers import RMSprop\n",
    "\n",
    "# Model 2\n",
    "classifier2 = Sequential()\n",
    "\n",
    "classifier2.add(Conv1D(filters=128, kernel_size=3, activation=LeakyReLU(alpha=0.2), input_shape=(X_train.shape[1], 1)))\n",
    "classifier2.add(MaxPooling1D(pool_size=2))\n",
    "classifier2.add(Conv1D(filters=64, kernel_size=3, activation=LeakyReLU(alpha=0.2)))\n",
    "classifier2.add(MaxPooling1D(pool_size=2))\n",
    "classifier2.add(Flatten())\n",
    "classifier2.add(Dense(units=256, activation=LeakyReLU(alpha=0.2)))\n",
    "classifier2.add(Dropout(rate=0.4))\n",
    "classifier2.add(Dense(units=y_train.shape[1], activation='softmax'))\n",
    "\n",
    "classifier2.compile(optimizer=RMSprop(), loss='mean_squared_error', metrics=['accuracy'])\n",
    "classifier2.summary()\n"
   ]
  },
  {
   "cell_type": "markdown",
   "metadata": {
    "id": "xWzRE1PGNaXg"
   },
   "source": [
    "### **Création du modèle CNN 3**\n",
    "**Modèle 3 :** Modifiez la fonction d'activation en **tanh**, l'optimiseur en **SGD**, la fonction de **binary cross-entropy** et diminuez le taux d'abandon."
   ]
  },
  {
   "cell_type": "code",
   "execution_count": 18,
   "metadata": {
    "colab": {
     "base_uri": "https://localhost:8080/"
    },
    "id": "KYQpl85BNaXh",
    "outputId": "c64f10db-29c6-4639-c0c6-eed0ea26119b"
   },
   "outputs": [
    {
     "name": "stdout",
     "output_type": "stream",
     "text": [
      "Model: \"sequential_2\"\n",
      "_________________________________________________________________\n",
      " Layer (type)                Output Shape              Param #   \n",
      "=================================================================\n",
      " conv1d_4 (Conv1D)           (None, 28, 32)            128       \n",
      "                                                                 \n",
      " max_pooling1d_4 (MaxPooling  (None, 14, 32)           0         \n",
      " 1D)                                                             \n",
      "                                                                 \n",
      " conv1d_5 (Conv1D)           (None, 12, 16)            1552      \n",
      "                                                                 \n",
      " max_pooling1d_5 (MaxPooling  (None, 6, 16)            0         \n",
      " 1D)                                                             \n",
      "                                                                 \n",
      " flatten_2 (Flatten)         (None, 96)                0         \n",
      "                                                                 \n",
      " dense_4 (Dense)             (None, 64)                6208      \n",
      "                                                                 \n",
      " dropout_2 (Dropout)         (None, 64)                0         \n",
      "                                                                 \n",
      " dense_5 (Dense)             (None, 7)                 455       \n",
      "                                                                 \n",
      "=================================================================\n",
      "Total params: 8,343\n",
      "Trainable params: 8,343\n",
      "Non-trainable params: 0\n",
      "_________________________________________________________________\n"
     ]
    }
   ],
   "source": [
    "from keras.optimizers import SGD\n",
    "\n",
    "# Model 3\n",
    "classifier3 = Sequential()\n",
    "\n",
    "classifier3.add(Conv1D(filters=32, kernel_size=3, activation='tanh', input_shape=(X_train.shape[1], 1)))\n",
    "classifier3.add(MaxPooling1D(pool_size=2))\n",
    "classifier3.add(Conv1D(filters=16, kernel_size=3, activation='tanh'))\n",
    "classifier3.add(MaxPooling1D(pool_size=2))\n",
    "classifier3.add(Flatten())\n",
    "classifier3.add(Dense(units=64, activation='tanh'))\n",
    "classifier3.add(Dropout(rate=0.1))\n",
    "classifier3.add(Dense(units=y_train.shape[1], activation='softmax'))\n",
    "\n",
    "classifier3.compile(optimizer=SGD(), loss='binary_crossentropy', metrics=['accuracy'])\n",
    "classifier3.summary()\n"
   ]
  },
  {
   "cell_type": "markdown",
   "metadata": {
    "id": "fGPw0IdFNaXh"
   },
   "source": [
    "Dans ces exemples, j'ai changé la fonction d'activation en LeakyReLU et tanh, l'optimiseur en RMSprop et SGD, la fonction de perte pour signifier l'erreur au carré et l'entropie croisée binaire, et j'ai ajusté le taux d'abandon. Ces changements peuvent influencer le comportement d'apprentissage du modèle et potentiellement avoir un impact sur la précision. N'oubliez pas de sélectionner les fonctions d'activation, les optimiseurs et les fonctions de perte appropriés en fonction de votre tâche spécifique et des caractéristiques de l'ensemble de données.\n",
    "\n",
    "N'hésitez pas à modifier d'autres paramètres ou à explorer différentes combinaisons pour approfondir leurs effets sur les performances du modèle."
   ]
  },
  {
   "cell_type": "markdown",
   "metadata": {},
   "source": [
    "<div style=\"margin-left: 250\">\n",
    "<img src=\"img/II-3.png\" width=\"4000\"/>\n",
    "</div>"
   ]
  },
  {
   "cell_type": "markdown",
   "metadata": {
    "id": "hcrT4Qe_NaXi"
   },
   "source": [
    "Entraînez un modèle d'apprentissage automatique à l'aide d'un réseau neuronal d'apprentissage en profondeur appelé \"classificateur\" sur certaines données d'entrée **X_train** avec les données de sortie correspondantes **y_train**.\n",
    "\n",
    "Le but du réseau neuronal est de prédire les valeurs de sortie **(y)** pour les nouvelles valeurs d'entrée **(X)** qu'il n'a pas vues auparavant.\n",
    "\n",
    "La méthode **\"fit\"** de l'objet **\"classifier\"** est utilisée pour entraîner le réseau de neurones.\n",
    "\n",
    "La méthode **\"fit\"** prend en compte les données d'entrée et les données de sortie ainsi que d'autres paramètres :\n",
    "\n",
    " \n",
    "\n",
    "* **X_train.reshape(X_train.shape[0], X_train.shape[1], 1)** - Cela remodèle les données d'entrée en un tableau 3D. La première dimension est le nombre d'exemples d'apprentissage, la deuxième dimension est la longueur de chaque séquence d'entrée et la troisième dimension est le nombre de fonctionnalités (dans ce cas, il n'y a qu'une seule fonctionnalité). Ceci est nécessaire pour la forme d'entrée du réseau neuronal.\n",
    "\n",
    "* **y_train** - Il s'agit des données de sortie qui correspondent aux données d'entrée.\n",
    "\n",
    "* **epochs=10** - Cela spécifie le nombre de fois que l'ensemble de données sera passé à travers le réseau de neurones pendant la formation.\n",
    "\n",
    "* **batch_size=128** - Ceci spécifie le nombre d'échantillons qui seront utilisés dans chaque itération de formation. Dans ce cas, les données d'apprentissage seront divisées en lots de 128 échantillons et le réseau de neurones sera formé sur chaque lot.\n",
    "\n",
    "* **validation_data=(X_test.reshape(X_test.shape[0], X_test.shape[1], 1), y_test)** - Ceci spécifie les données de validation, qui sont utilisées pour évaluer les performances du réseau de neurones pendant entraînement. Les données de validation sont également remodelées en un tableau 3D.\n",
    "\n",
    ">La sortie de la méthode **\"fit\"** est stockée dans la variable **\"history\"**. Cet objet contient des informations sur les performances du réseau de neurones pendant la formation, telles que la perte de formation et de validation et la précision pour chaque époque.\n",
    "\n",
    "\n",
    "\n",
    "\n",
    "\n",
    "\n",
    "\n"
   ]
  },
  {
   "cell_type": "markdown",
   "metadata": {
    "id": "1KkD09oTSMgR"
   },
   "source": [
    "### **Formation du modèle CNN 1**"
   ]
  },
  {
   "cell_type": "code",
   "execution_count": 15,
   "metadata": {
    "colab": {
     "base_uri": "https://localhost:8080/"
    },
    "id": "pY267iizNaXi",
    "outputId": "af909367-54eb-4eb7-da31-35b65b150742"
   },
   "outputs": [
    {
     "name": "stdout",
     "output_type": "stream",
     "text": [
      "Epoch 1/10\n",
      "352/352 [==============================] - 2s 4ms/step - loss: 0.1020 - accuracy: 0.9907 - val_loss: 0.0066 - val_accuracy: 0.9991\n",
      "Epoch 2/10\n",
      "352/352 [==============================] - 1s 4ms/step - loss: 0.0054 - accuracy: 0.9992 - val_loss: 0.0040 - val_accuracy: 0.9993\n",
      "Epoch 3/10\n",
      "352/352 [==============================] - 1s 4ms/step - loss: 0.0021 - accuracy: 0.9994 - val_loss: 0.0049 - val_accuracy: 0.9996\n",
      "Epoch 4/10\n",
      "352/352 [==============================] - 1s 4ms/step - loss: 0.0018 - accuracy: 0.9998 - val_loss: 0.0022 - val_accuracy: 0.9997\n",
      "Epoch 5/10\n",
      "352/352 [==============================] - 2s 6ms/step - loss: 0.0013 - accuracy: 0.9997 - val_loss: 0.0026 - val_accuracy: 0.9997\n",
      "Epoch 6/10\n",
      "352/352 [==============================] - 2s 6ms/step - loss: 0.0016 - accuracy: 0.9997 - val_loss: 0.0011 - val_accuracy: 0.9999\n",
      "Epoch 7/10\n",
      "352/352 [==============================] - 2s 4ms/step - loss: 3.5045e-04 - accuracy: 0.9999 - val_loss: 0.0011 - val_accuracy: 0.9999\n",
      "Epoch 8/10\n",
      "352/352 [==============================] - 1s 4ms/step - loss: 9.3928e-04 - accuracy: 0.9999 - val_loss: 9.4187e-04 - val_accuracy: 0.9999\n",
      "Epoch 9/10\n",
      "352/352 [==============================] - 2s 4ms/step - loss: 2.2981e-04 - accuracy: 1.0000 - val_loss: 0.0012 - val_accuracy: 0.9999\n",
      "Epoch 10/10\n",
      "352/352 [==============================] - 1s 4ms/step - loss: 1.6962e-04 - accuracy: 1.0000 - val_loss: 0.0013 - val_accuracy: 0.9999\n",
      "+------------------------------------------+\n",
      "|Execution time: 16.258989810943604 seconds|\n",
      "+------------------------------------------+\n"
     ]
    }
   ],
   "source": [
    "import time\n",
    "# Start the timer\n",
    "start_time = time.time()\n",
    "# Train cnn model 1\n",
    "history = classifier.fit(X_train.reshape(X_train.shape[0], X_train.shape[1], 1), y_train, epochs=10, batch_size=128, validation_data=(X_test.reshape(X_test.shape[0], X_test.shape[1], 1), y_test))\n",
    "# End the timer\n",
    "end_time = time.time()\n",
    "execution_time1 = end_time - start_time\n",
    "\n",
    "# Print Execution time\n",
    "print(\"+------------------------------------------+\")\n",
    "print(\"|Execution time:\", execution_time1, \"seconds|\")\n",
    "print(\"+------------------------------------------+\")\n"
   ]
  },
  {
   "cell_type": "markdown",
   "metadata": {
    "id": "VQyor__USUt-"
   },
   "source": [
    "### **Formation du modèle CNN 2**"
   ]
  },
  {
   "cell_type": "code",
   "execution_count": 16,
   "metadata": {
    "colab": {
     "base_uri": "https://localhost:8080/"
    },
    "id": "YIJpu5jENaXj",
    "outputId": "b1e167ba-566f-401c-8f1d-26358ebce205"
   },
   "outputs": [
    {
     "name": "stdout",
     "output_type": "stream",
     "text": [
      "Epoch 1/10\n",
      "352/352 [==============================] - 3s 8ms/step - loss: 0.0020 - accuracy: 0.9930 - val_loss: 9.1232e-04 - val_accuracy: 0.9967\n",
      "Epoch 2/10\n",
      "352/352 [==============================] - 2s 7ms/step - loss: 0.0011 - accuracy: 0.9960 - val_loss: 8.6743e-04 - val_accuracy: 0.9970\n",
      "Epoch 3/10\n",
      "352/352 [==============================] - 2s 6ms/step - loss: 0.0011 - accuracy: 0.9963 - val_loss: 7.8499e-04 - val_accuracy: 0.9973\n",
      "Epoch 4/10\n",
      "352/352 [==============================] - 2s 6ms/step - loss: 0.0010 - accuracy: 0.9964 - val_loss: 7.8591e-04 - val_accuracy: 0.9973\n",
      "Epoch 5/10\n",
      "352/352 [==============================] - 2s 6ms/step - loss: 0.0010 - accuracy: 0.9964 - val_loss: 7.8396e-04 - val_accuracy: 0.9973\n",
      "Epoch 6/10\n",
      "352/352 [==============================] - 2s 6ms/step - loss: 0.0010 - accuracy: 0.9964 - val_loss: 8.0944e-04 - val_accuracy: 0.9971\n",
      "Epoch 7/10\n",
      "352/352 [==============================] - 2s 6ms/step - loss: 0.0010 - accuracy: 0.9964 - val_loss: 7.8500e-04 - val_accuracy: 0.9973\n",
      "Epoch 8/10\n",
      "352/352 [==============================] - 2s 6ms/step - loss: 0.0010 - accuracy: 0.9964 - val_loss: 7.8414e-04 - val_accuracy: 0.9973\n",
      "Epoch 9/10\n",
      "352/352 [==============================] - 2s 6ms/step - loss: 0.0010 - accuracy: 0.9964 - val_loss: 8.0921e-04 - val_accuracy: 0.9971\n",
      "Epoch 10/10\n",
      "352/352 [==============================] - 2s 6ms/step - loss: 0.0010 - accuracy: 0.9964 - val_loss: 7.9002e-04 - val_accuracy: 0.9972\n",
      "+------------------------------------------+\n",
      "|Execution time: 22.561176776885986 seconds|\n",
      "+------------------------------------------+\n"
     ]
    }
   ],
   "source": [
    "import time\n",
    "# Start the timer\n",
    "start_time = time.time()\n",
    "# Train cnn model 2\n",
    "history2 = classifier2.fit(X_train.reshape(X_train.shape[0], X_train.shape[1], 1), y_train, epochs=10, batch_size=128, validation_data=(X_test.reshape(X_test.shape[0], X_test.shape[1], 1), y_test))\n",
    "# End the timer\n",
    "end_time = time.time()\n",
    "execution_time2 = end_time - start_time\n",
    "\n",
    "# Print Execution time\n",
    "print(\"+------------------------------------------+\")\n",
    "print(\"|Execution time:\", execution_time2, \"seconds|\")\n",
    "print(\"+------------------------------------------+\")"
   ]
  },
  {
   "cell_type": "markdown",
   "metadata": {
    "id": "jSIENzIwSW86"
   },
   "source": [
    "### **Formation du modèle CNN 3**"
   ]
  },
  {
   "cell_type": "code",
   "execution_count": 19,
   "metadata": {
    "colab": {
     "base_uri": "https://localhost:8080/"
    },
    "id": "6hBp-IEaNaXl",
    "outputId": "a6298d7a-5ba0-4340-b09e-0b305969a296"
   },
   "outputs": [
    {
     "name": "stdout",
     "output_type": "stream",
     "text": [
      "Epoch 1/10\n",
      "352/352 [==============================] - 2s 5ms/step - loss: 0.3215 - accuracy: 0.9190 - val_loss: 0.1056 - val_accuracy: 0.9637\n",
      "Epoch 2/10\n",
      "352/352 [==============================] - 12s 34ms/step - loss: 0.0798 - accuracy: 0.9621 - val_loss: 0.0619 - val_accuracy: 0.9637\n",
      "Epoch 3/10\n",
      "352/352 [==============================] - 8s 22ms/step - loss: 0.0587 - accuracy: 0.9621 - val_loss: 0.0517 - val_accuracy: 0.9637\n",
      "Epoch 4/10\n",
      "352/352 [==============================] - 10s 27ms/step - loss: 0.0512 - accuracy: 0.9621 - val_loss: 0.0463 - val_accuracy: 0.9637\n",
      "Epoch 5/10\n",
      "352/352 [==============================] - 7s 19ms/step - loss: 0.0464 - accuracy: 0.9621 - val_loss: 0.0424 - val_accuracy: 0.9637\n",
      "Epoch 6/10\n",
      "352/352 [==============================] - 7s 20ms/step - loss: 0.0426 - accuracy: 0.9621 - val_loss: 0.0390 - val_accuracy: 0.9637\n",
      "Epoch 7/10\n",
      "352/352 [==============================] - 7s 20ms/step - loss: 0.0393 - accuracy: 0.9621 - val_loss: 0.0358 - val_accuracy: 0.9637\n",
      "Epoch 8/10\n",
      "352/352 [==============================] - 9s 25ms/step - loss: 0.0361 - accuracy: 0.9621 - val_loss: 0.0326 - val_accuracy: 0.9637\n",
      "Epoch 9/10\n",
      "352/352 [==============================] - 8s 23ms/step - loss: 0.0328 - accuracy: 0.9621 - val_loss: 0.0293 - val_accuracy: 0.9637\n",
      "Epoch 10/10\n",
      "352/352 [==============================] - 7s 21ms/step - loss: 0.0292 - accuracy: 0.9622 - val_loss: 0.0259 - val_accuracy: 0.9637\n",
      "+------------------------------------------+\n",
      "|Execution time: 77.09881472587585 seconds|\n",
      "+------------------------------------------+\n"
     ]
    }
   ],
   "source": [
    "import time\n",
    "# Start the timer\n",
    "start_time = time.time()\n",
    "# Train cnn model 3\n",
    "history3 = classifier3.fit(X_train.reshape(X_train.shape[0], X_train.shape[1], 1), y_train, epochs=10, batch_size=128, validation_data=(X_test.reshape(X_test.shape[0], X_test.shape[1], 1), y_test))\n",
    "# End the timer\n",
    "end_time = time.time()\n",
    "execution_time3 = end_time - start_time\n",
    "\n",
    "# Print Execution time\n",
    "print(\"+------------------------------------------+\")\n",
    "print(\"|Execution time:\", execution_time3, \"seconds|\")\n",
    "print(\"+------------------------------------------+\")"
   ]
  },
  {
   "cell_type": "markdown",
   "metadata": {},
   "source": [
    "<div style=\"margin-left: 250\">\n",
    "<img src=\"img/II-4.png\" width=\"4000\"/>\n",
    "</div>"
   ]
  },
  {
   "cell_type": "markdown",
   "metadata": {
    "id": "cBWJIhDbNaXl"
   },
   "source": [
    "La méthode \"evaluate\" prend les paramètres suivants :\n",
    "\n",
    "* **X_test.reshape((X_test.shape[0], X_test.shape[1], 1))** - Cela remodèle les données d'entrée du test au même format de tableau 3D utilisé pendant la formation. La première dimension est le nombre d'exemples de test, la deuxième dimension est la longueur de chaque séquence d'entrée et la troisième dimension est le nombre de fonctionnalités (dans ce cas, il n'y a qu'une seule fonctionnalité).\n",
    "\n",
    "* **y_test** - Il s'agit des données de sortie correspondantes pour les données d'entrée de test.\n",
    "\n",
    "* **verbose=0** - Ceci spécifie le niveau de verbosité du processus d'évaluation. Une valeur de 0 signifie qu'aucun message de progression ne sera affiché pendant l'évaluation.\n",
    "\n",
    ">La sortie de la méthode \"evaluate\" est stockée dans la variable \"score\". La variable \"score\" contient une valeur scalaire qui représente la performance globale du modèle sur les données de test. La métrique spécifique utilisée pour l'évaluation dépend du type de modèle et du problème à résoudre. Par exemple, si le modèle est un classificateur, la métrique peut être l'exactitude, la précision ou le rappel. Si le modèle est un régresseur, la métrique peut être l'erreur quadratique moyenne ou l'erreur absolue moyenne."
   ]
  },
  {
   "cell_type": "markdown",
   "metadata": {
    "id": "PMxKn21jSR7o"
   },
   "source": [
    "### **Évaluer la précision et la perte des 3 modèles**"
   ]
  },
  {
   "cell_type": "code",
   "execution_count": 25,
   "metadata": {
    "colab": {
     "base_uri": "https://localhost:8080/",
     "height": 1000
    },
    "id": "0q2CAgX_SG-H",
    "outputId": "26e69816-7092-4f4b-f292-886fc4bff6aa"
   },
   "outputs": [
    {
     "name": "stdout",
     "output_type": "stream",
     "text": [
      "Model 1 - Test loss: 0.13%\n",
      "Model 1 - Test accuracy: 99.99%\n",
      "Model 2 - Test loss: 0.08%\n",
      "Model 2 - Test accuracy: 99.72%\n",
      "Model 3 - Test loss: 2.59%\n",
      "Model 3 - Test accuracy: 96.37%\n"
     ]
    },
    {
     "data": {
      "image/png": "[encoded data removed]",
      "text/plain": [
       "<Figure size 504x504 with 1 Axes>"
      ]
     },
     "metadata": {
      "needs_background": "light"
     },
     "output_type": "display_data"
    },
    {
     "data": {
      "image/png": "[encoded data removed]",
      "text/plain": [
       "<Figure size 504x504 with 1 Axes>"
      ]
     },
     "metadata": {
      "needs_background": "light"
     },
     "output_type": "display_data"
    }
   ],
   "source": [
    "# Plot the accuracy and loss curves\n",
    "import matplotlib.pyplot as plt\n",
    "# Get the Score of evaluating CNN 1\n",
    "score1 = classifier.evaluate(X_test.reshape((X_test.shape[0], X_test.shape[1], 1)), y_test, verbose=0)\n",
    "print('Model 1 - Test loss: {:.2%}'.format(score1[0]))  # Display test loss as a percentage\n",
    "print('Model 1 - Test accuracy: {:.2%}'.format(score1[1]))  # Display test accuracy as a percentage\n",
    "\n",
    "# Get the Score of evaluating CNN 2\n",
    "score2 = classifier2.evaluate(X_test.reshape((X_test.shape[0], X_test.shape[1], 1)), y_test, verbose=0)\n",
    "print('Model 2 - Test loss: {:.2%}'.format(score2[0]))  # Display test loss as a percentage\n",
    "print('Model 2 - Test accuracy: {:.2%}'.format(score2[1]))  # Display test accuracy as a percentage\n",
    "\n",
    "# Get the Score of evaluating CNN 3\n",
    "score3 = classifier3.evaluate(X_test.reshape((X_test.shape[0], X_test.shape[1], 1)), y_test, verbose=0)\n",
    "print('Model 3 - Test loss: {:.2%}'.format(score3[0]))  # Display test loss as a percentage\n",
    "print('Model 3 - Test accuracy: {:.2%}'.format(score3[1]))  # Display test accuracy as a percentage\n",
    "\n",
    "\n",
    "# Plot accuracy\n",
    "plt.figure(figsize=(7, 7))\n",
    "plt.plot(history.history['accuracy'])\n",
    "plt.plot(history2.history['accuracy'])\n",
    "plt.plot(history3.history['accuracy'])\n",
    "plt.plot(history.history['val_accuracy'])\n",
    "plt.plot(history2.history['val_accuracy'])\n",
    "plt.plot(history3.history['val_accuracy'])\n",
    "plt.title('Précision du modèle',fontsize=\"25\")\n",
    "plt.ylabel('Précision',fontsize=\"20\")\n",
    "plt.xlabel('Époque',fontsize=\"20\")\n",
    "plt.legend(['Model 1 Train', 'Model 2 Train', 'Model 3 Train', 'Model 1 Test', 'Model 2 Test', 'Model 3 Test'], loc='lower right',fontsize=\"15\")\n",
    "plt.show()\n",
    "\n",
    "# Plot loss\n",
    "plt.figure(figsize=(7, 7))\n",
    "plt.plot(history.history['loss'])\n",
    "plt.plot(history2.history['loss'])\n",
    "plt.plot(history3.history['loss'])\n",
    "plt.plot(history.history['val_loss'])\n",
    "plt.plot(history2.history['val_loss'])\n",
    "plt.plot(history3.history['val_loss'])\n",
    "plt.title('Perte de modèle',fontsize=\"25\")\n",
    "plt.ylabel('Perte',fontsize=\"20\")\n",
    "plt.xlabel('Époque',fontsize=\"20\")\n",
    "plt.legend(['Model 1 Train', 'Model 2 Train', 'Model 3 Train', 'Model 1 Test', 'Model 2 Test', 'Model 3 Test'], loc='upper right',fontsize=\"15\")\n",
    "plt.show()"
   ]
  },
  {
   "cell_type": "markdown",
   "metadata": {
    "id": "QC5OXFu0Q-6P"
   },
   "source": [
    "### **Évaluation de la précision des 3 modèles**"
   ]
  },
  {
   "cell_type": "code",
   "execution_count": 27,
   "metadata": {
    "colab": {
     "base_uri": "https://localhost:8080/",
     "height": 472
    },
    "id": "d2UXz6uzRDbI",
    "outputId": "0c86d70c-6ad6-40d8-8d0c-0726df29495a"
   },
   "outputs": [
    {
     "data": {
      "image/png": "[encoded data removed]",
      "text/plain": [
       "<Figure size 504x504 with 1 Axes>"
      ]
     },
     "metadata": {
      "needs_background": "light"
     },
     "output_type": "display_data"
    }
   ],
   "source": [
    "# Plot the accuracy\n",
    "accuracy = [score1[1], score2[1], score3[1]]\n",
    "labels = ['CNN1', 'CNN2', 'CNN3']\n",
    "colors = ['blue', 'blue', 'blue']  # Set the color for each bar\n",
    "# Find the index of the model with the highest accuracy\n",
    "max_accuracy_index = accuracy.index(max(accuracy))\n",
    "colors[max_accuracy_index] = 'green'  # Set a different color for the bar with the highest accuracy\n",
    "plt.figure(figsize=(7, 7))\n",
    "plt.bar(labels, accuracy, color=colors)\n",
    "plt.xlabel('Former des modèles CNN',fontsize=\"20\")\n",
    "plt.ylabel('Précision (de 0 à 1)',fontsize=\"20\")\n",
    "plt.title('Précision de plusieurs modèles',fontsize=\"25\")\n",
    "plt.show()\n"
   ]
  },
  {
   "cell_type": "markdown",
   "metadata": {
    "id": "w2ohhSVKRrP3"
   },
   "source": [
    "\n",
    "### **Évaluation du temps d'exécution des 3 modèles**\n",
    "\n"
   ]
  },
  {
   "cell_type": "code",
   "execution_count": 31,
   "metadata": {
    "colab": {
     "base_uri": "https://localhost:8080/",
     "height": 472
    },
    "id": "3dnmKZr9RqzP",
    "outputId": "94d67b2f-ba06-4b2e-d035-8e50eb97692a"
   },
   "outputs": [
    {
     "data": {
      "image/png": "[encoded data removed]",
      "text/plain": [
       "<Figure size 504x504 with 1 Axes>"
      ]
     },
     "metadata": {
      "needs_background": "light"
     },
     "output_type": "display_data"
    }
   ],
   "source": [
    "# Plot the execution times\n",
    "execution_times = [execution_time1, execution_time2, execution_time3]\n",
    "labels = ['CNN1', 'CNN2', 'CNN3']\n",
    "colors = ['blue', 'blue', 'blue']  # Set the color for each bar\n",
    "\n",
    "# Find the index of the model with the lowest execution time\n",
    "min_execution_times_index = execution_times.index(min(execution_times))\n",
    "colors[min_execution_times_index] = 'green'  # Set a different color for the bar with the execution time\n",
    "plt.figure(figsize=(7, 7))\n",
    "plt.bar(labels, execution_times, color=colors)\n",
    "plt.xlabel('Former des modèles CNN',fontsize=\"20\")\n",
    "plt.ylabel('Temps d exécution (secondes)',fontsize=\"20\")\n",
    "plt.title('Temps d exécution de plusieurs trains',fontsize=\"25\")\n",
    "plt.show()"
   ]
  },
  {
   "cell_type": "code",
   "execution_count": 32,
   "metadata": {
    "id": "PKltH2INNaXn"
   },
   "outputs": [],
   "source": [
    "classifier.save('the_best_cnn_model.h5')"
   ]
  },
  {
   "cell_type": "markdown",
   "metadata": {},
   "source": [
    "<br><br><br><br><br><br>"
   ]
  },
  {
   "cell_type": "markdown",
   "metadata": {},
   "source": [
    "<div style=\"margin-left: 250\">\n",
    "<img src=\"img/III-1.png\" width=\"4000\"/>\n",
    "</div>"
   ]
  },
  {
   "cell_type": "markdown",
   "metadata": {},
   "source": [
    "Nous utilisions **3 exemples** de résultats pour voir à quel point ce modèle est vraiment précis."
   ]
  },
  {
   "cell_type": "markdown",
   "metadata": {
    "id": "vxG_Yyt_S7OI"
   },
   "source": [
    "<div style=\"margin-left: 250\">\n",
    "<img src=\"img/III-2.png\" width=\"4000\"/>\n",
    "</div>"
   ]
  },
  {
   "cell_type": "markdown",
   "metadata": {
    "id": "bScyvcgzNaXo"
   },
   "source": [
    "### **Créer l'exemple de test 1**"
   ]
  },
  {
   "cell_type": "code",
   "execution_count": 155,
   "metadata": {
    "id": "jn3TJUmNNaXp"
   },
   "outputs": [],
   "source": [
    "import pandas as pd\n",
    "from sklearn.preprocessing import LabelEncoder, OneHotEncoder, StandardScaler\n",
    "database2 = {\n",
    "    'duration': [125],  \n",
    "    'protocol_type': ['tcp'],  \n",
    "    'service': ['ftp_data'],  \n",
    "    'flag': ['SF'],  \n",
    "    'src_bytes': [235],\n",
    "    'dst_bytes': [370],\n",
    "    'land': [0],  \n",
    "    'wrong_fragment': [0],\n",
    "    'urgent': [0],\n",
    "    'hot': [0],\n",
    "    'num_failed_logins': [0],\n",
    "    'logged_in': [0],  \n",
    "    'num_compromised': [1],\n",
    "    'root_shell': [0],  \n",
    "    'su_attempted': [0],  \n",
    "    'num_root': [1],  \n",
    "    'num_file_creations': [0],\n",
    "    'num_shells': [0],\n",
    "    'num_access_files': [0],\n",
    "    'num_outbound_cmds': [0],\n",
    "    'is_host_login': [0],  \n",
    "    'is_guest_login': [0],  \n",
    "    'count': [8],\n",
    "    'srv_count': [8],\n",
    "    'serror_rate': [0.0],\n",
    "    'srv_serror_rate': [0.0],\n",
    "    'rerror_rate': [0.0],\n",
    "    'srv_rerror_rate': [0.0],\n",
    "    'same_srv_rate': [1.0],\n",
    "    'diff_srv_rate': [0.0],\n",
    "    'srv_diff_host_rate': [0.0],\n",
    "    'dst_host_count': [255],\n",
    "    'dst_host_srv_count': [9],\n",
    "    'dst_host_same_srv_rate': [0.03],\n",
    "    'dst_host_diff_srv_rate': [0.06],\n",
    "    'dst_host_same_src_port_rate': [0.0],\n",
    "    'dst_host_srv_diff_host_rate': [0.0],\n",
    "    'dst_host_serror_rate': [0.0],\n",
    "    'dst_host_srv_serror_rate': [0.0],\n",
    "    'dst_host_rerror_rate': [0.0],\n",
    "    'dst_host_srv_rerror_rate': [0.0],\n",
    "    'outcome': ['back.']\n",
    "}\n",
    "\n",
    "\n",
    "df = pd.DataFrame(database2)"
   ]
  },
  {
   "cell_type": "markdown",
   "metadata": {
    "id": "o6h3wyi4NaXp"
   },
   "source": [
    "### **Préparation de l'exemple de test 1**"
   ]
  },
  {
   "cell_type": "code",
   "execution_count": 156,
   "metadata": {
    "id": "RE5idaUSNaXp"
   },
   "outputs": [],
   "source": [
    "df = pd.DataFrame(database2)\n",
    "# Drop the features that are not required\n",
    "df = df.drop(df.columns[[0, 1, 2, 3, 6, 11, 13, 14, 15, 20, 21]], axis=1)\n",
    "\n",
    "# Separate the features and labels\n",
    "X2 = df.iloc[:, :-1].values\n",
    "y2 = df.iloc[:, -1].values\n",
    "\n",
    "# Encode the categorical labels into integers\n",
    "label_encoder_y2 = LabelEncoder()\n",
    "y2 = label_encoder_y2.fit_transform(y2.ravel())\n",
    "\n",
    "# One-hot encoding the labels\n",
    "onehotencoder = OneHotEncoder(categories='auto')\n",
    "y2 = onehotencoder.fit_transform(y2.reshape(-1, 1)).toarray()\n",
    "\n",
    "# Feature scaling the input data\n",
    "scaler = StandardScaler()\n",
    "X2 = scaler.fit_transform(X2)\n",
    "\n",
    "# Reshape the modified example to match the original input shape\n",
    "X2_reshaped = X2.reshape((1, 30, 1))"
   ]
  },
  {
   "cell_type": "markdown",
   "metadata": {
    "id": "CFUJnkgCNaXq"
   },
   "source": [
    "### **Tester l'exemple 1** "
   ]
  },
  {
   "cell_type": "code",
   "execution_count": 158,
   "metadata": {},
   "outputs": [
    {
     "name": "stdout",
     "output_type": "stream",
     "text": [
      "1/1 [==============================] - 0s 12ms/step\n",
      "\u001b[97m --------------------------------------------\n",
      "\u001b[94m True Positive (TP):\u001b[92m 1\n",
      "\u001b[94m True Negative (TN):\u001b[92m 0\n",
      "\u001b[94m False Positive (FP):\u001b[92m 0\n",
      "\u001b[94m False Negative (FN):\u001b[92m 0\n",
      "\u001b[97m --------------------------------------------\n",
      "\u001b[94m Predictions:\u001b[92m ['back.']\n",
      "\u001b[94m Execution time:\u001b[92m 0.05821108818054199 seconds\n",
      "\u001b[97m --------------------------------------------\n"
     ]
    },
    {
     "name": "stderr",
     "output_type": "stream",
     "text": [
      "C:\\Users\\AURES\\anaconda3\\lib\\site-packages\\sklearn\\utils\\validation.py:63: DataConversionWarning: A column-vector y was passed when a 1d array was expected. Please change the shape of y to (n_samples, ), for example using ravel().\n",
      "  return f(*args, **kwargs)\n"
     ]
    }
   ],
   "source": [
    "import time\n",
    "start_time = time.time()\n",
    "\n",
    "# Make predictions on the modified example\n",
    "predictions = classifier.predict(X2_reshaped)\n",
    "\n",
    "# Decode the one-hot encoded predictions\n",
    "# Reshape the predictions array\n",
    "predictions_reshaped = predictions.argmax(axis=1).reshape(-1, 1)\n",
    "\n",
    "# Inverse transform the predictions\n",
    "decoded_predictions = label_encoder_y2.inverse_transform(onehotencoder.inverse_transform(predictions_reshaped))\n",
    "# Calculate TP, TN, FP, FN\n",
    "intrusion_types = ['neptune.', 'back.', 'phf.', 'ipsweep.', 'portsweep.', 'satan.', 'smurf.']\n",
    "true_labels = label_encoder_y2.inverse_transform(y3.argmax(axis=1).reshape(-1, 1))\n",
    "\n",
    "TP = np.sum(np.isin(decoded_predictions, intrusion_types) & np.isin(true_labels, intrusion_types))\n",
    "TN = np.sum(~np.isin(decoded_predictions, intrusion_types) & ~np.isin(true_labels, intrusion_types))\n",
    "FP = np.sum(np.isin(decoded_predictions, intrusion_types) & ~np.isin(true_labels, intrusion_types))\n",
    "FN = np.sum(~np.isin(decoded_predictions, intrusion_types) & np.isin(true_labels, intrusion_types))\n",
    "\n",
    "# Print the results\n",
    "print(\"\\033[97m --------------------------------------------\")\n",
    "print(\"\\033[94m True Positive (TP):\\033[92m\", TP)\n",
    "print(\"\\033[94m True Negative (TN):\\033[92m\", TN)\n",
    "print(\"\\033[94m False Positive (FP):\\033[92m\", FP)\n",
    "print(\"\\033[94m False Negative (FN):\\033[92m\", FN)\n",
    "print(\"\\033[97m --------------------------------------------\")\n",
    "# End the time of execution\n",
    "end_time = time.time()\n",
    "execution_time3 = end_time - start_time\n",
    "\n",
    "# Print the predictions\n",
    "print(\"\\033[94m Predictions:\\033[92m\", decoded_predictions)\n",
    "# Print the time of execution\n",
    "print(\"\\033[94m Execution time:\\033[92m\", execution_time1, \"seconds\")\n",
    "print(\"\\033[97m --------------------------------------------\")"
   ]
  },
  {
   "cell_type": "markdown",
   "metadata": {},
   "source": [
    "<br><br><br>"
   ]
  },
  {
   "cell_type": "markdown",
   "metadata": {
    "id": "ryPvuzY0xTEj"
   },
   "source": [
    "<div style=\"margin-left: 250\">\n",
    "<img src=\"img/III-3.png\" width=\"4000\"/>\n",
    "</div>"
   ]
  },
  {
   "cell_type": "markdown",
   "metadata": {
    "id": "6AxQUJIIUBze"
   },
   "source": [
    "### **Créer l'exemple de test 2**"
   ]
  },
  {
   "cell_type": "code",
   "execution_count": 159,
   "metadata": {
    "id": "cYAppTNCUq0H"
   },
   "outputs": [],
   "source": [
    "import pandas as pd\n",
    "from sklearn.preprocessing import LabelEncoder, OneHotEncoder, StandardScaler\n",
    "\n",
    "# Define the attack example\n",
    "database3 = {\n",
    "    'duration': [0],\n",
    "    'protocol_type': ['icmp'],\n",
    "    'service': ['eco_i'],\n",
    "    'flag': ['OTH'],\n",
    "    'src_bytes': [1032],\n",
    "    'dst_bytes': [0],\n",
    "    'land': [0],\n",
    "    'wrong_fragment': [0],\n",
    "    'urgent': [0],\n",
    "    'hot': [0],\n",
    "    'num_failed_logins': [0],\n",
    "    'logged_in': [0],\n",
    "    'num_compromised': [0],\n",
    "    'root_shell': [0],\n",
    "    'su_attempted': [0],\n",
    "    'num_root': [0],\n",
    "    'num_file_creations': [0],\n",
    "    'num_shells': [0],\n",
    "    'num_access_files': [0],\n",
    "    'num_outbound_cmds': [0],\n",
    "    'is_host_login': [0],\n",
    "    'is_guest_login': [0],\n",
    "    'count': [234],\n",
    "    'srv_count': [78],\n",
    "    'serror_rate': [0.0],\n",
    "    'srv_serror_rate': [0.0],\n",
    "    'rerror_rate': [1.0],\n",
    "    'srv_rerror_rate': [1.0],\n",
    "    'same_srv_rate': [0.34],\n",
    "    'diff_srv_rate': [0.12],\n",
    "    'srv_diff_host_rate': [0.01],\n",
    "    'dst_host_count': [10],\n",
    "    'dst_host_srv_count': [2],\n",
    "    'dst_host_same_srv_rate': [0.2],\n",
    "    'dst_host_diff_srv_rate': [0.8],\n",
    "    'dst_host_same_src_port_rate': [0.0],\n",
    "    'dst_host_srv_diff_host_rate': [0.0],\n",
    "    'dst_host_serror_rate': [0.0],\n",
    "    'dst_host_srv_serror_rate': [0.0],\n",
    "    'dst_host_rerror_rate': [1.0],\n",
    "    'dst_host_srv_rerror_rate': [1.0],\n",
    "    'outcome': ['neptune.']\n",
    "}\n",
    "\n",
    "# Create a DataFrame from the example\n",
    "df3 = pd.DataFrame(database3)"
   ]
  },
  {
   "cell_type": "markdown",
   "metadata": {
    "id": "BvwAICRSUOF3"
   },
   "source": [
    "### **Préparation de l'exemple de test 2**"
   ]
  },
  {
   "cell_type": "code",
   "execution_count": 160,
   "metadata": {
    "id": "zsw1x7udU5j-"
   },
   "outputs": [],
   "source": [
    "# Drop the features that are not required\n",
    "df3 = df3.drop(df3.columns[[0, 1, 2, 3, 6, 11, 13, 14, 15, 20, 21]], axis=1)\n",
    "\n",
    "# Separate the features and labels\n",
    "X3 = df3.iloc[:, :-1].values\n",
    "y3 = df3.iloc[:, -1].values\n",
    "\n",
    "# Encode the categorical labels into integers\n",
    "label_encoder_y3 = LabelEncoder()\n",
    "y3 = label_encoder_y3.fit_transform(y3.ravel())\n",
    "\n",
    "# One-hot encoding the labels\n",
    "onehotencoder = OneHotEncoder(categories='auto')\n",
    "y3 = onehotencoder.fit_transform(y3.reshape(-1, 1)).toarray()\n",
    "\n",
    "# Feature scaling the input data\n",
    "scaler = StandardScaler()\n",
    "X3 = scaler.fit_transform(X3)\n",
    "\n",
    "# Reshape the modified example to match the original input shape\n",
    "X3_reshaped = X3.reshape((1, 30, 1))"
   ]
  },
  {
   "cell_type": "markdown",
   "metadata": {
    "id": "UVwt1rLLUcSA"
   },
   "source": [
    "### **Tester l'exemple 2** "
   ]
  },
  {
   "cell_type": "code",
   "execution_count": 161,
   "metadata": {},
   "outputs": [
    {
     "name": "stdout",
     "output_type": "stream",
     "text": [
      "1/1 [==============================] - 0s 18ms/step\n",
      "\u001b[97m --------------------------------------------\n",
      "\u001b[94m True Positive (TP):\u001b[92m 1\n",
      "\u001b[94m True Negative (TN):\u001b[92m 0\n",
      "\u001b[94m False Positive (FP):\u001b[92m 0\n",
      "\u001b[94m False Negative (FN):\u001b[92m 0\n",
      "\u001b[97m --------------------------------------------\n",
      "\u001b[94m Predictions:\u001b[92m ['neptune.']\n",
      "\u001b[94m Execution time:\u001b[92m 0.06083846092224121 seconds\n",
      "\u001b[97m --------------------------------------------\n"
     ]
    },
    {
     "name": "stderr",
     "output_type": "stream",
     "text": [
      "C:\\Users\\AURES\\anaconda3\\lib\\site-packages\\sklearn\\utils\\validation.py:63: DataConversionWarning: A column-vector y was passed when a 1d array was expected. Please change the shape of y to (n_samples, ), for example using ravel().\n",
      "  return f(*args, **kwargs)\n"
     ]
    }
   ],
   "source": [
    "import time\n",
    "start_time = time.time()\n",
    "\n",
    "# Make predictions on the modified example\n",
    "predictions3 = classifier.predict(X3_reshaped)\n",
    "\n",
    "# Decode the one-hot encoded predictions\n",
    "# Reshape the predictions array\n",
    "predictions_reshaped3 = predictions3.argmax(axis=1).reshape(-1, 1)\n",
    "\n",
    "# Inverse transform the predictions\n",
    "decoded_predictions3 = label_encoder_y3.inverse_transform(onehotencoder.inverse_transform(predictions_reshaped3))\n",
    "# Calculate TP, TN, FP, FN\n",
    "intrusion_types = ['neptune.', 'back.', 'phf.', 'ipsweep.', 'portsweep.', 'satan.', 'smurf.']\n",
    "true_labels = label_encoder_y3.inverse_transform(y3.argmax(axis=1).reshape(-1, 1))\n",
    "\n",
    "TP = np.sum(np.isin(decoded_predictions3, intrusion_types) & np.isin(true_labels, intrusion_types))\n",
    "TN = np.sum(~np.isin(decoded_predictions3, intrusion_types) & ~np.isin(true_labels, intrusion_types))\n",
    "FP = np.sum(np.isin(decoded_predictions3, intrusion_types) & ~np.isin(true_labels, intrusion_types))\n",
    "FN = np.sum(~np.isin(decoded_predictions3, intrusion_types) & np.isin(true_labels, intrusion_types))\n",
    "\n",
    "# Print the results\n",
    "print(\"\\033[97m --------------------------------------------\")\n",
    "print(\"\\033[94m True Positive (TP):\\033[92m\", TP)\n",
    "print(\"\\033[94m True Negative (TN):\\033[92m\", TN)\n",
    "print(\"\\033[94m False Positive (FP):\\033[92m\", FP)\n",
    "print(\"\\033[94m False Negative (FN):\\033[92m\", FN)\n",
    "print(\"\\033[97m --------------------------------------------\")\n",
    "# End the time of execution\n",
    "end_time = time.time()\n",
    "execution_time3 = end_time - start_time\n",
    "\n",
    "# Print the predictions\n",
    "print(\"\\033[94m Predictions:\\033[92m\", decoded_predictions3)\n",
    "# Print the time of execution\n",
    "print(\"\\033[94m Execution time:\\033[92m\", execution_time2, \"seconds\")\n",
    "print(\"\\033[97m --------------------------------------------\")"
   ]
  },
  {
   "cell_type": "markdown",
   "metadata": {},
   "source": [
    "<br><br><br>"
   ]
  },
  {
   "cell_type": "markdown",
   "metadata": {
    "id": "-zbccauK41Vx"
   },
   "source": [
    "<div style=\"margin-left: 250\">\n",
    "<img src=\"img/III-4.png\" width=\"4000\"/>\n",
    "</div>"
   ]
  },
  {
   "cell_type": "markdown",
   "metadata": {
    "id": "L0GJ459RUFke"
   },
   "source": [
    "### **Créer l'exemple de test 3**"
   ]
  },
  {
   "cell_type": "code",
   "execution_count": 163,
   "metadata": {
    "id": "95K1fzCyWvfm"
   },
   "outputs": [],
   "source": [
    "import pandas as pd\n",
    "from sklearn.preprocessing import LabelEncoder, OneHotEncoder, StandardScaler\n",
    "\n",
    "# Define the normal example\n",
    "database4 = {\n",
    "    'duration': [0],\n",
    "    'protocol_type': ['tcp'],\n",
    "    'service': ['http'],\n",
    "    'flag': ['SF'],\n",
    "    'src_bytes': [500],\n",
    "    'dst_bytes': [1500],\n",
    "    'land': [0],\n",
    "    'wrong_fragment': [0],\n",
    "    'urgent': [0],\n",
    "    'hot': [0],\n",
    "    'num_failed_logins': [0],\n",
    "    'logged_in': [1],\n",
    "    'num_compromised': [0],\n",
    "    'root_shell': [0],\n",
    "    'su_attempted': [0],\n",
    "    'num_root': [0],\n",
    "    'num_file_creations': [0],\n",
    "    'num_shells': [0],\n",
    "    'num_access_files': [0],\n",
    "    'num_outbound_cmds': [0],\n",
    "    'is_host_login': [0],\n",
    "    'is_guest_login': [0],\n",
    "    'count': [25],\n",
    "    'srv_count': [25],\n",
    "    'serror_rate': [0.0],\n",
    "    'srv_serror_rate': [0.0],\n",
    "    'rerror_rate': [0.0],\n",
    "    'srv_rerror_rate': [0.0],\n",
    "    'same_srv_rate': [1.0],\n",
    "    'diff_srv_rate': [0.0],\n",
    "    'srv_diff_host_rate': [0.0],\n",
    "    'dst_host_count': [255],\n",
    "    'dst_host_srv_count': [255],\n",
    "    'dst_host_same_srv_rate': [1.0],\n",
    "    'dst_host_diff_srv_rate': [0.0],\n",
    "    'dst_host_same_src_port_rate': [0.0],\n",
    "    'dst_host_srv_diff_host_rate': [0.0],\n",
    "    'dst_host_serror_rate': [0.0],\n",
    "    'dst_host_srv_serror_rate': [0.0],\n",
    "    'dst_host_rerror_rate': [0.0],\n",
    "    'dst_host_srv_rerror_rate': [0.0],\n",
    "    'outcome': ['normal.']\n",
    "}\n",
    "\n",
    "# Create a DataFrame from the example\n",
    "df4 = pd.DataFrame(database4)\n"
   ]
  },
  {
   "cell_type": "markdown",
   "metadata": {
    "id": "Gx72h4xOUT_n"
   },
   "source": [
    "### **Préparation de l'exemple de test 3**"
   ]
  },
  {
   "cell_type": "code",
   "execution_count": 164,
   "metadata": {
    "id": "lI47KICfW1nW"
   },
   "outputs": [],
   "source": [
    "# Drop the features that are not required\n",
    "df4 = df4.drop(df4.columns[[0, 1, 2, 3, 6, 11, 13, 14, 15, 20, 21]], axis=1)\n",
    "\n",
    "# Separate the features and labels\n",
    "X4 = df4.iloc[:, :-1].values\n",
    "y4 = df4.iloc[:, -1].values\n",
    "\n",
    "# Encode the categorical labels into integers\n",
    "label_encoder_y4 = LabelEncoder()\n",
    "y4 = label_encoder_y4.fit_transform(y4.ravel())\n",
    "\n",
    "# One-hot encoding the labels\n",
    "onehotencoder = OneHotEncoder(categories='auto')\n",
    "y4 = onehotencoder.fit_transform(y4.reshape(-1, 1)).toarray()\n",
    "\n",
    "# Feature scaling the input data\n",
    "scaler = StandardScaler()\n",
    "X4 = scaler.fit_transform(X4)\n",
    "\n",
    "# Reshape the modified example to match the original input shape\n",
    "X4_reshaped = X4.reshape((1, 30, 1))\n"
   ]
  },
  {
   "cell_type": "markdown",
   "metadata": {
    "id": "kgyQtbR2UgE4"
   },
   "source": [
    "### **Tester l'exemple 3** "
   ]
  },
  {
   "cell_type": "code",
   "execution_count": 166,
   "metadata": {},
   "outputs": [
    {
     "name": "stdout",
     "output_type": "stream",
     "text": [
      "1/1 [==============================] - 0s 18ms/step\n",
      "\u001b[97m --------------------------------------------\n",
      "\u001b[94m True Positive (TP):\u001b[92m 0\n",
      "\u001b[94m True Negative (TN):\u001b[92m 1\n",
      "\u001b[94m False Positive (FP):\u001b[92m 0\n",
      "\u001b[94m False Negative (FN):\u001b[92m 0\n",
      "\u001b[97m --------------------------------------------\n",
      "\u001b[94m Predictions:\u001b[92m ['normal.']\n",
      "\u001b[94m Execution time:\u001b[92m 0.05791211128234863 seconds\n",
      "\u001b[97m --------------------------------------------\n"
     ]
    },
    {
     "name": "stderr",
     "output_type": "stream",
     "text": [
      "C:\\Users\\AURES\\anaconda3\\lib\\site-packages\\sklearn\\utils\\validation.py:63: DataConversionWarning: A column-vector y was passed when a 1d array was expected. Please change the shape of y to (n_samples, ), for example using ravel().\n",
      "  return f(*args, **kwargs)\n"
     ]
    }
   ],
   "source": [
    "import time\n",
    "start_time = time.time()\n",
    "\n",
    "# Make predictions on the modified example\n",
    "predictions4 = classifier.predict(X4_reshaped)\n",
    "\n",
    "# Decode the one-hot encoded predictions\n",
    "# Reshape the predictions array\n",
    "predictions_reshaped4 = predictions4.argmax(axis=1).reshape(-1, 1)\n",
    "\n",
    "# Inverse transform the predictions\n",
    "decoded_predictions4 = label_encoder_y4.inverse_transform(onehotencoder.inverse_transform(predictions_reshaped4))\n",
    "# Calculate TP, TN, FP, FN\n",
    "intrusion_types = ['neptune.', 'back.', 'phf.', 'ipsweep.', 'portsweep.', 'satan.', 'smurf.']\n",
    "true_labels = label_encoder_y4.inverse_transform(y3.argmax(axis=1).reshape(-1, 1))\n",
    "\n",
    "TP = np.sum(np.isin(decoded_predictions4, intrusion_types) & np.isin(true_labels, intrusion_types))\n",
    "TN = np.sum(~np.isin(decoded_predictions4, intrusion_types) & ~np.isin(true_labels, intrusion_types))\n",
    "FP = np.sum(np.isin(decoded_predictions4, intrusion_types) & ~np.isin(true_labels, intrusion_types))\n",
    "FN = np.sum(~np.isin(decoded_predictions4, intrusion_types) & np.isin(true_labels, intrusion_types))\n",
    "\n",
    "# Print the results\n",
    "print(\"\\033[97m --------------------------------------------\")\n",
    "print(\"\\033[94m True Positive (TP):\\033[92m\", TP)\n",
    "print(\"\\033[94m True Negative (TN):\\033[92m\", TN)\n",
    "print(\"\\033[94m False Positive (FP):\\033[92m\", FP)\n",
    "print(\"\\033[94m False Negative (FN):\\033[92m\", FN)\n",
    "print(\"\\033[97m --------------------------------------------\")\n",
    "# End the time of execution\n",
    "end_time = time.time()\n",
    "execution_time3 = end_time - start_time\n",
    "\n",
    "# Print the predictions\n",
    "print(\"\\033[94m Predictions:\\033[92m\", decoded_predictions4)\n",
    "# Print the time of execution\n",
    "print(\"\\033[94m Execution time:\\033[92m\", execution_time3, \"seconds\")\n",
    "print(\"\\033[97m --------------------------------------------\")"
   ]
  },
  {
   "cell_type": "code",
   "execution_count": null,
   "metadata": {},
   "outputs": [],
   "source": []
  },
  {
   "cell_type": "code",
   "execution_count": null,
   "metadata": {},
   "outputs": [],
   "source": []
  },
  {
   "cell_type": "code",
   "execution_count": null,
   "metadata": {},
   "outputs": [],
   "source": []
  },
  {
   "cell_type": "code",
   "execution_count": null,
   "metadata": {},
   "outputs": [],
   "source": []
  },
  {
   "cell_type": "code",
   "execution_count": null,
   "metadata": {},
   "outputs": [],
   "source": []
  },
  {
   "cell_type": "code",
   "execution_count": null,
   "metadata": {},
   "outputs": [],
   "source": []
  },
  {
   "cell_type": "code",
   "execution_count": null,
   "metadata": {},
   "outputs": [],
   "source": []
  },
  {
   "cell_type": "code",
   "execution_count": null,
   "metadata": {},
   "outputs": [],
   "source": []
  },
  {
   "cell_type": "code",
   "execution_count": null,
   "metadata": {},
   "outputs": [],
   "source": []
  },
  {
   "cell_type": "code",
   "execution_count": null,
   "metadata": {},
   "outputs": [],
   "source": []
  },
  {
   "cell_type": "code",
   "execution_count": null,
   "metadata": {},
   "outputs": [],
   "source": []
  },
  {
   "cell_type": "code",
   "execution_count": null,
   "metadata": {},
   "outputs": [],
   "source": []
  },
  {
   "cell_type": "code",
   "execution_count": null,
   "metadata": {},
   "outputs": [],
   "source": []
  },
  {
   "cell_type": "code",
   "execution_count": null,
   "metadata": {},
   "outputs": [],
   "source": []
  },
  {
   "cell_type": "code",
   "execution_count": null,
   "metadata": {},
   "outputs": [],
   "source": []
  },
  {
   "cell_type": "code",
   "execution_count": null,
   "metadata": {},
   "outputs": [],
   "source": []
  },
  {
   "cell_type": "code",
   "execution_count": null,
   "metadata": {},
   "outputs": [],
   "source": []
  },
  {
   "cell_type": "code",
   "execution_count": null,
   "metadata": {},
   "outputs": [],
   "source": []
  },
  {
   "cell_type": "code",
   "execution_count": null,
   "metadata": {},
   "outputs": [],
   "source": []
  },
  {
   "cell_type": "code",
   "execution_count": null,
   "metadata": {},
   "outputs": [],
   "source": []
  },
  {
   "cell_type": "markdown",
   "metadata": {
    "id": "nLoaHKm88Grl"
   },
   "source": []
  },
  {
   "cell_type": "markdown",
   "metadata": {
    "id": "LpmsXKXK8GnN"
   },
   "source": []
  },
  {
   "cell_type": "markdown",
   "metadata": {
    "id": "tGibd1S98Git"
   },
   "source": []
  },
  {
   "cell_type": "markdown",
   "metadata": {
    "id": "SuivB68r8GZt"
   },
   "source": []
  },
  {
   "cell_type": "code",
   "execution_count": null,
   "metadata": {},
   "outputs": [],
   "source": []
  },
  {
   "cell_type": "code",
   "execution_count": null,
   "metadata": {},
   "outputs": [],
   "source": []
  },
  {
   "cell_type": "code",
   "execution_count": null,
   "metadata": {},
   "outputs": [],
   "source": []
  },
  {
   "cell_type": "code",
   "execution_count": null,
   "metadata": {},
   "outputs": [],
   "source": []
  },
  {
   "cell_type": "code",
   "execution_count": null,
   "metadata": {},
   "outputs": [],
   "source": []
  },
  {
   "cell_type": "code",
   "execution_count": null,
   "metadata": {},
   "outputs": [],
   "source": []
  }
 ],
 "metadata": {
  "colab": {
   "provenance": [],
   "toc_visible": true
  },
  "gpuClass": "standard",
  "kernelspec": {
   "display_name": "Python 3 (ipykernel)",
   "language": "python",
   "name": "python3"
  },
  "language_info": {
   "codemirror_mode": {
    "name": "ipython",
    "version": 3
   },
   "file_extension": ".py",
   "mimetype": "text/x-python",
   "name": "python",
   "nbconvert_exporter": "python",
   "pygments_lexer": "ipython3",
   "version": "3.10.9"
  },
  "toc-showmarkdowntxt": false
 },
 "nbformat": 4,
 "nbformat_minor": 4
}
